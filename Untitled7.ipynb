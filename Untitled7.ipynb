{
  "nbformat": 4,
  "nbformat_minor": 0,
  "metadata": {
    "colab": {
      "name": "Untitled7.ipynb",
      "provenance": [],
      "collapsed_sections": []
    },
    "kernelspec": {
      "name": "python3",
      "display_name": "Python 3"
    }
  },
  "cells": [
    {
      "cell_type": "code",
      "metadata": {
        "id": "bPOdwHjYl7OA",
        "outputId": "5b178386-5184-4b4c-a8bd-f95dbb5bef0e",
        "colab": {
          "base_uri": "https://localhost:8080/"
        }
      },
      "source": [
        "from numpy import random\n",
        "import numpy as np\n",
        "from google.colab import files\n",
        "import os \n",
        "from bs4 import BeautifulSoup\n",
        "import urllib\n",
        "!git clone https://github.com/tatuylonen/wiktextract.git\n",
        "!cd wiktextract\n",
        "!setup.py install\n",
        "import pandas as pd\n"
      ],
      "execution_count": 78,
      "outputs": [
        {
          "output_type": "stream",
          "text": [
            "fatal: destination path 'wiktextract' already exists and is not an empty directory.\n",
            "/bin/bash: setup.py: command not found\n"
          ],
          "name": "stdout"
        }
      ]
    },
    {
      "cell_type": "code",
      "metadata": {
        "id": "x5XZ99vzZFge"
      },
      "source": [
        "class word():\n",
        "  def __init__(self, word, meaning):\n",
        "    self.word = word\n",
        "    self.meaning = meaning"
      ],
      "execution_count": 6,
      "outputs": []
    },
    {
      "cell_type": "code",
      "metadata": {
        "id": "x-1NTrVcdLmr"
      },
      "source": [
        "class verb():\n",
        "  def __init__(self,word):\n",
        "    self = word(word,'')\n",
        "    self.infinitive = self.word\n",
        "    self.participles = ''\n",
        "    self.active = ''\n",
        "    self.passive = ''\n",
        "    self.adverbial = ''\n",
        "    self.firstsingular = ''\n",
        "    self.secondsingular = ''\n",
        "    self.thirdsingular = ''\n",
        "    self.firstplural = ''\n",
        "    self.secondplural= ''\n",
        "    self.thirdplural = ''"
      ],
      "execution_count": 109,
      "outputs": []
    },
    {
      "cell_type": "code",
      "metadata": {
        "id": "fhM1pALJc-EY"
      },
      "source": [
        "class conjugate():\n",
        "  def conjugate(self):\n",
        "    webpage = \"https://en.wiktionary.org/wiki/\"\n",
        "    webpage = webpage + urllib.parse.quote(self)\n",
        "    websource = urllib.request.urlopen(webpage)\n",
        "    soup = BeautifulSoup(websource.read(),\"html.parser\")\n",
        "    span = soup.find_all(\"table\",{\"class\": \"inflection inflection-ru inflection-verb inflection-table\"})\n",
        "    span = pd.read_html(webpage)\n",
        "    data = []\n",
        "    for x in span:\n",
        "      data.append(x.to_dict())\n",
        "    print(data[1])\n",
        "    temp = data[1]\n",
        "    l = []\n",
        "    self = verb(self)\n",
        "    for x in temp:\n",
        "      i = iter(x[0])\n",
        "      add = verb(temp)\n"
      ],
      "execution_count": 106,
      "outputs": []
    },
    {
      "cell_type": "code",
      "metadata": {
        "id": "IiWLNeAEk3PZ",
        "outputId": "1b95ebfc-67d6-48bd-92c8-244f90b93f38",
        "colab": {
          "base_uri": "https://localhost:8080/"
        }
      },
      "source": [
        "conjugate.conjugate(\"учить\")"
      ],
      "execution_count": 107,
      "outputs": [
        {
          "output_type": "stream",
          "text": [
            "{'imperfective aspect': {0: 'infinitive', 1: 'participles', 2: 'active', 3: 'passive', 4: 'adverbial', 5: nan, 6: '1st singular (я)', 7: '2nd singular (ты)', 8: '3rd singular (он/она́/оно́)', 9: '1st plural (мы)', 10: '2nd plural (вы)', 11: '3rd plural (они́)', 12: 'imperative', 13: nan, 14: 'past tense', 15: 'masculine (я/ты/он)', 16: 'feminine (я/ты/она́)', 17: 'neuter (оно́)'}, 'imperfective aspect.1': {0: 'учи́тьučítʹ', 1: 'present tense', 2: 'у́чащийúčaščij', 3: 'учи́мый1učímyj1', 4: 'уча́učá', 5: 'present tense', 6: 'учу́učú', 7: 'у́чишьúčišʹ', 8: 'у́читúčit', 9: 'у́чимúčim', 10: 'у́читеúčite', 11: 'у́чатúčat', 12: 'singular', 13: 'учи́učí', 14: 'singular', 15: 'учи́лučíl', 16: 'учи́лаučíla', 17: 'учи́лоučílo'}, 'imperfective aspect.2': {0: 'учи́тьučítʹ', 1: 'past tense', 2: 'учи́вшийučívšij', 3: 'у́ченныйúčennyj', 4: 'учи́вučív,учи́вшиučívši', 5: 'future tense', 6: 'бу́ду учи́тьbúdu učítʹ', 7: 'бу́дешь учи́тьbúdešʹ učítʹ', 8: 'бу́дет учи́тьbúdet učítʹ', 9: 'бу́дем учи́тьbúdem učítʹ', 10: 'бу́дете учи́тьbúdete učítʹ', 11: 'бу́дут учи́тьbúdut učítʹ', 12: 'plural', 13: 'учи́теučíte', 14: 'plural(мы/вы/они́)', 15: 'учи́лиučíli', 16: 'учи́лиučíli', 17: 'учи́лиučíli'}}\n"
          ],
          "name": "stdout"
        }
      ]
    },
    {
      "cell_type": "code",
      "metadata": {
        "id": "83p9D8Na1vIW",
        "outputId": "6174ecc2-f757-4f8a-f218-880cffc30733",
        "colab": {
          "base_uri": "https://localhost:8080/"
        }
      },
      "source": [
        "\"%D1%83%D1%87%D1%83\".encode(\"utf-8\")"
      ],
      "execution_count": 97,
      "outputs": [
        {
          "output_type": "execute_result",
          "data": {
            "text/plain": [
              "b'%D1%83%D1%87%D1%83'"
            ]
          },
          "metadata": {
            "tags": []
          },
          "execution_count": 97
        }
      ]
    },
    {
      "cell_type": "code",
      "metadata": {
        "id": "okLc4McuA3LO"
      },
      "source": [
        "class Empty(Exception):\n",
        "  def __init__(self, f, message = \"Empty File! Please charge the data\"):\n",
        "    self.f = f\n",
        "    self.message = message\n",
        "    super().__init__(self.message)\n",
        "class NotDone(Exception):\n",
        "  def __init__(self, x, message = \"Please follow the instruction\"):\n",
        "    self.x = x\n",
        "    self.message = message\n",
        "    super().__init__(self.message)\n"
      ],
      "execution_count": null,
      "outputs": []
    },
    {
      "cell_type": "code",
      "metadata": {
        "id": "xrKZ-JoNYCWv"
      },
      "source": [
        "class INPUT():\n",
        "  def __init__(self):\n",
        "    self.namefile = ''\n",
        "    self.number = 0\n",
        "    self.separator = ''\n",
        "    self.L = []\n",
        "    self.script_dir = \"\"\n",
        "  def INP(self):\n",
        "    self.separator = input(\"Enter the sepаrator: \")\n",
        "    self.namefile = input(\"Enter the input file: \")\n",
        "    self.number = int(input(\"How many tasks would you want?\"))\n",
        "    # when using the input() method, variable must have been initialized before\n",
        "    d = \"/content/\"\n",
        "    s = self.namefile + \"_tasks\"\n",
        "    !mkdir -p \"$d$s\"\n",
        "    self.script_dir = os.path.join(d,s)\n",
        "    try:\n",
        "      filea = open(self.namefile, 'r')\n",
        "    except FileNotFoundError:\n",
        "      filea = open(self.namefile,'w+') \n",
        "    print(\"PLEASE CHARGE THE DATA, TYPE 'Y' WHEN YOU'VE DONE\")\n",
        "    x = ''\n",
        "    x = input()\n",
        "    if x != 'Y' and x != 'y':\n",
        "      raise NotDone(x)\n",
        "    а = 0\n",
        "    if os.path.getsize(self.namefile) == 0:\n",
        "      raise Empty(self.namefile)\n",
        "    filea.close()\n",
        "  def setup(self):\n",
        "    f = open(self.namefile, 'r')\n",
        "    Lines = f.readlines()\n",
        "    for x in Lines:\n",
        "      n = len(x)\n",
        "      string1 = ''\n",
        "      i = 0\n",
        "      while i < n:\n",
        "        if x[i] != self.separator:\n",
        "          string1 = string1 + x[i]\n",
        "          i = i + 1\n",
        "        else: break\n",
        "      string2 = ''\n",
        "      while i < n:\n",
        "        if x[i] != self.separator:\n",
        "          string2 = string2 + x[i]\n",
        "        i = i + 1\n",
        "      x = word(string1, string2)\n",
        "      self.L.append(x)\n",
        "    f.close()\n",
        "\n",
        "class main():\n",
        "  def reverse_card(self):\n",
        "    l = len(self.L)\n",
        "    file2 = open(self.namefile + \"[:-1]\", 'w')\n",
        "    for x in newLines:\n",
        "      t = x.meaning.rstrip(\"\\n\") + '; ' + x.word\n",
        "      file2.writelines(t)\n",
        "      file2.writelines(\"\\n\")\n",
        "    file2.close()\n",
        "  def writing_meaning(self):\n",
        "    Lines = []\n",
        "    for x in self.L:\n",
        "      Lines.append(x.word)\n",
        "    l = len(self.L)\n",
        "    arr = []\n",
        "    for x in range (0,l):\n",
        "      arr.append(x)\n",
        "    arr = np.array(arr)\n",
        "    need = []\n",
        "    for x in range (0,self.number):\n",
        "      name = str(x) + '.txt'\n",
        "      abs_file_path = os.path.join(self.script_dir,name)\n",
        "      filet = open(abs_file_path, 'w')\n",
        "      temp  = random.permutation(arr)\n",
        "      res = []\n",
        "      count = True \n",
        "      for x in temp: \n",
        "        if (count == True): \n",
        "          filet.write(Lines[x].rstrip(\"\\n\"))\n",
        "          filet.write(\"                            \".rstrip(\"\\n\"))\n",
        "          count = not count\n",
        "        else:\n",
        "          filet.write(Lines[x]+\"                    \")\n",
        "          filet.write(\"\\n\")\n",
        "          filet.write(\"\\n\")\n",
        "          count = not count    \n",
        "      filet.close()\n",
        "  def solution(self):\n",
        "    name = str(self.namefile) + \"_sol.txt\" \n",
        "    path = os.path.join(self.script_dir,name)\n",
        "    f = open(path,'w')\n",
        "    for x in self.L:\n",
        "      f.writelines(x.word.rstrip(\"\\n\") + \": \" + x.meaning)\n",
        "      f.writelines(\"\\n\")\n",
        "    f.close()"
      ],
      "execution_count": null,
      "outputs": []
    },
    {
      "cell_type": "code",
      "metadata": {
        "id": "I06RztBkCaZd"
      },
      "source": [
        "data = INPUT()\n",
        "data.INP()\n",
        "data.setup()"
      ],
      "execution_count": null,
      "outputs": []
    },
    {
      "cell_type": "code",
      "metadata": {
        "id": "QSQtX8ACYRAq"
      },
      "source": [
        "main.writing_meaning(data)"
      ],
      "execution_count": null,
      "outputs": []
    },
    {
      "cell_type": "code",
      "metadata": {
        "id": "rDGs_T6YXH0c"
      },
      "source": [
        "main.solution(data)"
      ],
      "execution_count": null,
      "outputs": []
    },
    {
      "cell_type": "code",
      "metadata": {
        "id": "e0r5dIJWW7Nf"
      },
      "source": [
        "!zip -r \"$data.script_dir\" \"$data.script_dir\""
      ],
      "execution_count": null,
      "outputs": []
    }
  ]
}