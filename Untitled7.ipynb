{
  "nbformat": 4,
  "nbformat_minor": 0,
  "metadata": {
    "colab": {
      "name": "Untitled7.ipynb",
      "provenance": [],
      "collapsed_sections": []
    },
    "kernelspec": {
      "name": "python3",
      "display_name": "Python 3"
    },
    "accelerator": "GPU"
  },
  "cells": [
    {
      "cell_type": "code",
      "metadata": {
        "id": "bPOdwHjYl7OA"
      },
      "source": [
        "from numpy import random\n",
        "import numpy as np\n",
        "from google.colab import files\n",
        "import os \n",
        "from bs4 import BeautifulSoup\n",
        "import urllib\n",
        "import pandas as pd\n",
        "import json\n",
        "from json import JSONEncoder"
      ],
      "execution_count": 1,
      "outputs": []
    },
    {
      "cell_type": "code",
      "metadata": {
        "id": "x5XZ99vzZFge"
      },
      "source": [
        "class word():\n",
        "  def __init__(self, word, meaning):\n",
        "    self.word = word\n",
        "    self.meaning = meaning\n",
        "    self.old = False \n",
        "    self.error = False"
      ],
      "execution_count": 2,
      "outputs": []
    },
    {
      "cell_type": "code",
      "metadata": {
        "id": "x-1NTrVcdLmr"
      },
      "source": [
        "class verb():\n",
        "  def __init__(self,w):\n",
        "    self.infinitive = w.rstrip(\" \")\n",
        "    self.meaning = ''\n",
        "    self.dictionary = []\n",
        "    self.singular1st = ''\n",
        "    self.singular2nd = ''\n",
        "    self.singular3rd = ''\n",
        "    self.plural1st = ''\n",
        "    self.plural2nd = ''\n",
        "    self.plural3rd = ''\n",
        "    self.imperative = ''\n",
        "    self.active = ''\n",
        "    self.passive = ''\n",
        "    self.adverbial = ''\n",
        "    self.error = False \n",
        "    self.perfective = ''\n",
        "    self.imperfective = ''\n",
        "    self.kind = ''\n",
        "  def tojson(self):\n",
        "    return json.dumps(self, default=lambda o: o.__dict__)"
      ],
      "execution_count": 3,
      "outputs": []
    },
    {
      "cell_type": "code",
      "metadata": {
        "id": "v5EY6Au0ygLD"
      },
      "source": [
        "class sub_adj():\n",
        "  def __init__(self):\n",
        "    self.L = []\n",
        "    self.nominative = \"\"\n",
        "    self.genitive = \"\"\n",
        "    self.dative = \"\"\n",
        "    self.accusative = \"\"\n",
        "    self.instrumental = \"\"\n",
        "    self.prepositional = \"\"\n",
        "  def change(self,x):\n",
        "    self.nominative = x[0]\n",
        "    self.genitive = x[1]\n",
        "    self.dative = x[2]\n",
        "    self.accusative = x[3]\n",
        "    self.instrumental = x[4]\n",
        "    self.prepositional = x[5]\n",
        "class adj():\n",
        "  def __init__(self,w):\n",
        "    self.word = w\n",
        "    self.masculine = sub_adj()\n",
        "    self.feminine= sub_adj()\n",
        "    self.neuter = sub_adj()\n",
        "    self.plural = sub_adj()\n",
        "    self.error = False\n",
        "  def prepare(x):\n",
        "    if (len(x) > 0):\n",
        "      t = ''\n",
        "      for i in range (0, len(x)):\n",
        "        if ord(x[i]) in range (1040,1106) or x[i] == ',':\n",
        "          if x[i] == ',':\n",
        "            t = t + \"  \"\n",
        "          else:\n",
        "            t = t + x[i]\n",
        "      return t\n",
        "    else: return ''\n",
        "  def conjugate(self):\n",
        "    webpage = \"http://en.wiktionary.org/wiki/\"\n",
        "    link = urllib.parse.quote(adj.prepare(self.word))\n",
        "    webpage = urllib.parse.urljoin(webpage, link)\n",
        "    try:\n",
        "      urllib.request.urlopen(webpage)\n",
        "    except urllib.error.HTTPError:\n",
        "      self.error = True\n",
        "    if self.error == False:\n",
        "      span = pd.read_html(webpage)\n",
        "      d = span[1].to_dict()\n",
        "      masculine = list(d['masculine'].values())\n",
        "      for i in range (0,6): \n",
        "        x = masculine[i]\n",
        "        x = str(x)\n",
        "        if len(x) == 0:\n",
        "          masculine.pop(x)\n",
        "        else:\n",
        "          self.masculine.L.append(adj.prepare(x))\n",
        "      self.masculine.change(self.masculine.L)\n",
        "      feminine = list(d['feminine'].values())\n",
        "      for i in range (0,6):  \n",
        "        x = feminine[i]\n",
        "        x = str(x)\n",
        "        if len(x) == 0:\n",
        "          feminine.pop(x)\n",
        "        else:\n",
        "          self.feminine.L.append(adj.prepare(x))\n",
        "      self.feminine.change(self.feminine.L)\n",
        "      neuter = list(d['neuter'].values())\n",
        "      for i in range (0,6): \n",
        "        x = neuter[i]\n",
        "        x = str(x) \n",
        "        if len(x) == 0:\n",
        "          neuter.pop(x)\n",
        "        else:\n",
        "          self.neuter.L.append(adj.prepare(x))\n",
        "      self.neuter.change(self.neuter.L)\n",
        "      plural = list(d['plural'].values())\n",
        "      for i in range (0,6):  \n",
        "        x = plural[i]\n",
        "        x = str(x)\n",
        "        if len(x) == 0:\n",
        "          plural.pop(x)\n",
        "        else:\n",
        "          self.plural.L.append(adj.prepare(x))\n",
        "      self.plural.change(self.plural.L)\n",
        "    d = {'masculine': self.masculine.L, 'feminine': self.feminine.L, 'neuter':self.neuter.L, 'plural':self.plural.L}\n",
        "    pd.set_option(\"display.max_rows\", None, \"display.max_columns\", None)\n",
        "    print(pd.DataFrame.from_dict(d, orient = 'index', columns = ['nominative','genitive','dative','accusative','instrumental','prepositional']))\n",
        "        \n",
        "\n",
        "\n",
        "    "
      ],
      "execution_count": 95,
      "outputs": []
    },
    {
      "cell_type": "code",
      "metadata": {
        "id": "vhwDyYJLzuPB",
        "outputId": "23ea90ae-5886-43fa-f547-293d96b126f4",
        "colab": {
          "base_uri": "https://localhost:8080/"
        }
      },
      "source": [
        "x = adj(\"новый\")\n",
        "x.conjugate() "
      ],
      "execution_count": 96,
      "outputs": [
        {
          "output_type": "stream",
          "text": [
            "          nominative genitive  dative accusative instrumental   prepositional\n",
            "masculine      новый   нового  новому     нового        новый           новым\n",
            "feminine       новая    новой   новой      новую        новую  новой  новою  \n",
            "neuter         новое   нового  новому      новое        новое           новым\n",
            "plural         новые    новых   новым      новых        новые          новыми\n"
          ],
          "name": "stdout"
        }
      ]
    },
    {
      "cell_type": "code",
      "metadata": {
        "id": "fhM1pALJc-EY"
      },
      "source": [
        "class conjugate():\n",
        "  def prepare(x):\n",
        "    if (len(x) > 0):\n",
        "      t = ''\n",
        "      for i in range (0, len(x)):\n",
        "        if ord(x[i]) in range (1040,1106):\n",
        "          t = t + x[i]\n",
        "      return t\n",
        "    else: return ''\n",
        "  def prepare2(x):\n",
        "    if (len(x) > 0):\n",
        "      t = ''\n",
        "      for i in range (0, len(x)):\n",
        "        if ord(x[i]) in range (65,91) or ord(x[i]) in range (97,123):\n",
        "          t = t + x[i]\n",
        "      return t\n",
        "    else: return ''\n",
        "\n",
        "  def conjugate(self):\n",
        "    webpage = \"http://en.wiktionary.org/wiki/\"\n",
        "    link = urllib.parse.quote(self.infinitive)\n",
        "    webpage = urllib.parse.urljoin(webpage, link)\n",
        "    try:\n",
        "      urllib.request.urlopen(webpage)\n",
        "    except urllib.error.HTTPError:\n",
        "      self.error = True\n",
        "    if self.error == False:\n",
        "      span = pd.read_html(webpage)\n",
        "      d = []\n",
        "      for x in span:\n",
        "        d.append(x.to_dict())\n",
        "      check = 2\n",
        "      temp = {}\n",
        "      for x in d: \n",
        "        if 'imperfective aspect.1' in x.keys(): \n",
        "          temp = x\n",
        "          check = 0\n",
        "          break\n",
        "        if 'perfective aspect.1' in x.keys():\n",
        "          temp = x\n",
        "          check = 1\n",
        "          break\n",
        "      l = []\n",
        "      if check == 0 :\n",
        "        self.active = conjugate.prepare(temp['imperfective aspect.1'][2])\n",
        "        self.passive = conjugate.prepare(temp['imperfective aspect.1'][3])\n",
        "        self.adverbial = conjugate.prepare(temp['imperfective aspect.1'][4])\n",
        "        self.singular1st = conjugate.prepare(temp['imperfective aspect.1'][6])\n",
        "        self.singular2nd = conjugate.prepare(temp['imperfective aspect.1'][7])\n",
        "        self.singular3rd = conjugate.prepare(temp['imperfective aspect.1'][8])\n",
        "        self.plural1st = conjugate.prepare(temp['imperfective aspect.1'][9])\n",
        "        self.plural2nd = conjugate.prepare(temp['imperfective aspect.1'][10])\n",
        "        self.plural3rd = conjugate.prepare(temp['imperfective aspect.1'][11])\n",
        "        self.imperative = conjugate.prepare(temp['imperfective aspect.1'][13])\n",
        "      elif check == 1:\n",
        "        self.active = conjugate.prepare(temp['perfective aspect.2'][2])\n",
        "        self.passive = conjugate.prepare(temp['perfective aspect.2'][3])\n",
        "        self.adverbial = conjugate.prepare(temp['perfective aspect.2'][4])\n",
        "        self.singular1st = conjugate.prepare(temp['perfective aspect.2'][6])\n",
        "        self.singular2nd = conjugate.prepare(temp['perfective aspect.2'][7])\n",
        "        self.singular3rd = conjugate.prepare(temp['perfective aspect.2'][8])\n",
        "        self.plural1st = conjugate.prepare(temp['perfective aspect.2'][9])\n",
        "        self.plural2nd = conjugate.prepare(temp['perfective aspect.2'][10])\n",
        "        self.plural3rd = conjugate.prepare(temp['perfective aspect.2'][11])\n",
        "        self.imperative = conjugate.prepare(temp['perfective aspect.1'][13])\n",
        "      else: self.error = True\n",
        "\n"
      ],
      "execution_count": null,
      "outputs": []
    },
    {
      "cell_type": "code",
      "metadata": {
        "id": "okLc4McuA3LO"
      },
      "source": [
        "class Empty(Exception):\n",
        "  def __init__(self, f, message = \"Empty File! Please charge the data\"):\n",
        "    self.f = f\n",
        "    self.message = message\n",
        "    super().__init__(self.message)\n",
        "class NotDone(Exception):\n",
        "  def __init__(self, x, message = \"Please follow the instruction\"):\n",
        "    self.x = x\n",
        "    self.message = message\n",
        "    super().__init__(self.message)\n"
      ],
      "execution_count": null,
      "outputs": []
    },
    {
      "cell_type": "code",
      "metadata": {
        "id": "PgemlsEv5zwV"
      },
      "source": [
        "class file():\n",
        "  def __init__(self):\n",
        "    self.namefile = ''\n",
        "    self.number = 0\n",
        "    self.separator = ''\n",
        "    self.L = []\n",
        "    self.script_dir = \"\"\n",
        "    self.error = []"
      ],
      "execution_count": null,
      "outputs": []
    },
    {
      "cell_type": "code",
      "metadata": {
        "id": "xrKZ-JoNYCWv"
      },
      "source": [
        "class INPUT():\n",
        "  def INP(self):\n",
        "    self.separator = input(\"Enter the sepаrator: \")\n",
        "    self.namefile = input(\"Enter the input file: \")\n",
        "    # when using the input() method, variable must have been initialized before\n",
        "    try:\n",
        "      filea = open(self.namefile, 'r')\n",
        "    except FileNotFoundError:\n",
        "      filea = open(self.namefile,'w+') \n",
        "    print(\"PLEASE CHARGE THE DATA, TYPE 'Y' WHEN YOU'VE DONE\")\n",
        "    x = ''\n",
        "    x = input()\n",
        "    if x != 'Y' and x != 'y':\n",
        "      raise NotDone(x)\n",
        "    а = 0\n",
        "    if os.path.getsize(self.namefile) == 0:\n",
        "      raise Empty(self.namefile)\n",
        "    filea.close()\n",
        "  def setup(self):\n",
        "    d = \"/content/\"\n",
        "    s = self.namefile + \"_tasks\"\n",
        "    !mkdir -p \"$d$s\"\n",
        "    self.script_dir = os.path.join(d,s)\n",
        "    f = open(self.namefile, 'r')\n",
        "    Lines = f.readlines()\n",
        "    for x in Lines:\n",
        "      n = len(x)\n",
        "      string1 = ''\n",
        "      i = 0\n",
        "      while i < n:\n",
        "        if x[i] != self.separator:\n",
        "          string1 = string1 + x[i]\n",
        "          i = i + 1\n",
        "        else: break\n",
        "      string2 = ''\n",
        "      while i < n:\n",
        "        if x[i] != self.separator:\n",
        "          string2 = string2 + x[i]\n",
        "        i = i + 1\n",
        "      x = word(string1, string2)\n",
        "      self.L.append(x)\n",
        "    f.close()\n",
        "\n"
      ],
      "execution_count": null,
      "outputs": []
    },
    {
      "cell_type": "code",
      "metadata": {
        "id": "iDWCTwjsDVRR"
      },
      "source": [
        "class sub_main():\n",
        "  def reverse(self):\n",
        "    temp = self.meaning  \n",
        "    self.meaning = sel.word\n",
        "    self.word = temp\n"
      ],
      "execution_count": null,
      "outputs": []
    },
    {
      "cell_type": "code",
      "metadata": {
        "id": "LrcApjm9ev_L"
      },
      "source": [
        "class main():\n",
        "  def reverse_card(self):\n",
        "    l = len(self.L)\n",
        "    reverse = file()\n",
        "    reverse.namefile = self.namefile + \"[:-1]\"\n",
        "    reverse.separator = self.separator\n",
        "    file2 = open(reverse.namefile, 'w')\n",
        "    for x in self.L:\n",
        "      t = x.meaning.rstrip(\"\\n\") + reverse.separator + x.word.rstrip(\"\\n\")\n",
        "      file2.writelines(t)\n",
        "      file2.writelines(\"\\n\")\n",
        "      temp = word(x.meaning,x.word)\n",
        "      reverse.L.append(temp)\n",
        "    file2.close()\n",
        "    return reverse \n",
        "  def writing_meaning(self):\n",
        "    self.number = int(input(\"How many tasks would you want?\"))\n",
        "    Lines = []\n",
        "    for x in self.L:\n",
        "      Lines.append(x.word)\n",
        "    l = len(self.L)\n",
        "    arr = []\n",
        "    for x in range (0,l):\n",
        "      arr.append(x)\n",
        "    arr = np.array(arr)\n",
        "    need = []\n",
        "    for x in range (0,self.number):\n",
        "      name = str(x) + '.txt'\n",
        "      abs_file_path = os.path.join(self.script_dir,name)\n",
        "      filet = open(abs_file_path, 'w')\n",
        "      temp  = random.permutation(arr)\n",
        "      res = []\n",
        "      count = True \n",
        "      for x in temp: \n",
        "        if (count == True): \n",
        "          filet.write(Lines[x].rstrip(\"\\n\"))\n",
        "          filet.write(\"                            \".rstrip(\"\\n\"))\n",
        "          count = not count\n",
        "        else:\n",
        "          filet.write(Lines[x]+\"                    \")\n",
        "          filet.write(\"\\n\")\n",
        "          filet.write(\"\\n\")\n",
        "          count = not count    \n",
        "      filet.close()\n",
        "  def solution(self):\n",
        "    name = str(self.namefile) + \"_sol.txt\" \n",
        "    path = os.path.join(self.script_dir,name)\n",
        "    f = open(path,'w')\n",
        "    for x in self.L:\n",
        "      f.writelines(x.word.rstrip(\"\\n\") + \": \" + x.meaning)\n",
        "      f.writelines(\"\\n\")\n",
        "    f.close()\n",
        "  def conjugate(self):\n",
        "    y = verb(conjugate.prepare(self))\n",
        "    conjugate.conjugate(y)\n",
        "    if y.error == False:\n",
        "     d = {'1st': [y.singular1st, y.plural1st], '2nd': [y.singular2nd, y.plural2nd], '3rd': [y.singular3rd, y.plural3rd] }\n",
        "     df = pd.DataFrame.from_dict(data=d, orient = 'index', columns = ['singular','plural'])\n",
        "     print(df)\n",
        "    else: print(\"This word is not a Russian verb, or mistyped\")\n",
        "  def check(self):\n",
        "    webpage = \"http://en.wiktionary.org/wiki/\"\n",
        "    link = urllib.parse.quote(conjugate.prepare(self.word))\n",
        "    webpage = urllib.parse.urljoin(webpage, link)\n",
        "    try:\n",
        "      urllib.request.urlopen(webpage)\n",
        "    except urllib.error.HTTPError:\n",
        "      self.error = True"
      ],
      "execution_count": null,
      "outputs": []
    },
    {
      "cell_type": "code",
      "metadata": {
        "id": "mVVISTtiFUyw",
        "outputId": "dd97bd14-fc1a-4a74-8e65-088f107b5958",
        "colab": {
          "base_uri": "https://localhost:8080/"
        }
      },
      "source": [
        "main.conjugate(\"хотеть\")"
      ],
      "execution_count": null,
      "outputs": [
        {
          "output_type": "stream",
          "text": [
            "    singular  plural\n",
            "1st     хочу   хотим\n",
            "2nd   хочешь  хотите\n",
            "3rd    хочет   хотят\n"
          ],
          "name": "stdout"
        }
      ]
    },
    {
      "cell_type": "code",
      "metadata": {
        "id": "Tc0tY943BI9Q"
      },
      "source": [
        "class anki():\n",
        "  def tojson(self):\n",
        "    return json.dumps(self, default=lambda o: o.__dict__)\n",
        "  def input(self):\n",
        "    f = open(self.namefile, 'r')\n",
        "    x = f.readlines()\n",
        "    self.L = []\n",
        "    direct = open(self.namefile + \".json\", 'a+')\n",
        "    for line in x:\n",
        "      temp = line.split(\"\\t\")\n",
        "      temp1 = verb(temp[1])\n",
        "      temp1.meaning = temp[2]\n",
        "      temp1.kind = temp[3]\n",
        "      temp1.imperfective = temp[4]\n",
        "      temp1.perfective = temp[5]\n",
        "      conjugate.conjugate(temp1)\n",
        "      self.L.append(temp1) #must parse to JSON serializable \n",
        "      json.dump(temp1.tojson(), direct)\n",
        "\n",
        "\n",
        "\n",
        "    "
      ],
      "execution_count": null,
      "outputs": []
    },
    {
      "cell_type": "code",
      "metadata": {
        "id": "I06RztBkCaZd",
        "outputId": "ad6f7688-805d-4d78-dff4-8481628b2887",
        "colab": {
          "base_uri": "https://localhost:8080/"
        }
      },
      "source": [
        "data = file()\n",
        "INPUT.INP(data)\n"
      ],
      "execution_count": null,
      "outputs": [
        {
          "output_type": "stream",
          "text": [
            "Enter the sepаrator: ;\n",
            "Enter the input file: урок7\n",
            "How many tasks would you want?7\n",
            "PLEASE CHARGE THE DATA, TYPE 'Y' WHEN YOU'VE DONE\n",
            "y\n"
          ],
          "name": "stdout"
        }
      ]
    },
    {
      "cell_type": "code",
      "metadata": {
        "id": "pNbhwS-zLdu9"
      },
      "source": [
        "INPUT.setup(data)"
      ],
      "execution_count": null,
      "outputs": []
    },
    {
      "cell_type": "code",
      "metadata": {
        "id": "KuLmtzG8MWnu"
      },
      "source": [
        "data2 = main.reverse_card(data)\n",
        "\n",
        "INPUT.setup(data2)\n",
        "#error: the space between words is too wide. Need a prepare def to cut out space chars"
      ],
      "execution_count": null,
      "outputs": []
    },
    {
      "cell_type": "code",
      "metadata": {
        "id": "M-0KPsRLHzEs"
      },
      "source": [
        "anki.input(data)"
      ],
      "execution_count": null,
      "outputs": []
    },
    {
      "cell_type": "code",
      "metadata": {
        "id": "1VOlcLQQRCC4",
        "outputId": "ae2e0e14-a751-4a4c-fa59-9fa199f30cbf",
        "colab": {
          "base_uri": "https://localhost:8080/",
          "height": 595
        }
      },
      "source": [
        "f3 = open('testing.json','r')\n",
        "x = json.load(f3)"
      ],
      "execution_count": null,
      "outputs": [
        {
          "output_type": "error",
          "ename": "JSONDecodeError",
          "evalue": "ignored",
          "traceback": [
            "\u001b[0;31m---------------------------------------------------------------------------\u001b[0m",
            "\u001b[0;31mJSONDecodeError\u001b[0m                           Traceback (most recent call last)",
            "\u001b[0;32m<ipython-input-33-02dbd33f3fab>\u001b[0m in \u001b[0;36m<module>\u001b[0;34m()\u001b[0m\n\u001b[1;32m      1\u001b[0m \u001b[0mf3\u001b[0m \u001b[0;34m=\u001b[0m \u001b[0mopen\u001b[0m\u001b[0;34m(\u001b[0m\u001b[0;34m'testing.json'\u001b[0m\u001b[0;34m,\u001b[0m\u001b[0;34m'r'\u001b[0m\u001b[0;34m)\u001b[0m\u001b[0;34m\u001b[0m\u001b[0;34m\u001b[0m\u001b[0m\n\u001b[0;32m----> 2\u001b[0;31m \u001b[0mx\u001b[0m \u001b[0;34m=\u001b[0m \u001b[0mjson\u001b[0m\u001b[0;34m.\u001b[0m\u001b[0mload\u001b[0m\u001b[0;34m(\u001b[0m\u001b[0mf3\u001b[0m\u001b[0;34m)\u001b[0m\u001b[0;34m\u001b[0m\u001b[0;34m\u001b[0m\u001b[0m\n\u001b[0m",
            "\u001b[0;32m/usr/lib/python3.6/json/__init__.py\u001b[0m in \u001b[0;36mload\u001b[0;34m(fp, cls, object_hook, parse_float, parse_int, parse_constant, object_pairs_hook, **kw)\u001b[0m\n\u001b[1;32m    297\u001b[0m         \u001b[0mcls\u001b[0m\u001b[0;34m=\u001b[0m\u001b[0mcls\u001b[0m\u001b[0;34m,\u001b[0m \u001b[0mobject_hook\u001b[0m\u001b[0;34m=\u001b[0m\u001b[0mobject_hook\u001b[0m\u001b[0;34m,\u001b[0m\u001b[0;34m\u001b[0m\u001b[0;34m\u001b[0m\u001b[0m\n\u001b[1;32m    298\u001b[0m         \u001b[0mparse_float\u001b[0m\u001b[0;34m=\u001b[0m\u001b[0mparse_float\u001b[0m\u001b[0;34m,\u001b[0m \u001b[0mparse_int\u001b[0m\u001b[0;34m=\u001b[0m\u001b[0mparse_int\u001b[0m\u001b[0;34m,\u001b[0m\u001b[0;34m\u001b[0m\u001b[0;34m\u001b[0m\u001b[0m\n\u001b[0;32m--> 299\u001b[0;31m         parse_constant=parse_constant, object_pairs_hook=object_pairs_hook, **kw)\n\u001b[0m\u001b[1;32m    300\u001b[0m \u001b[0;34m\u001b[0m\u001b[0m\n\u001b[1;32m    301\u001b[0m \u001b[0;34m\u001b[0m\u001b[0m\n",
            "\u001b[0;32m/usr/lib/python3.6/json/__init__.py\u001b[0m in \u001b[0;36mloads\u001b[0;34m(s, encoding, cls, object_hook, parse_float, parse_int, parse_constant, object_pairs_hook, **kw)\u001b[0m\n\u001b[1;32m    352\u001b[0m             \u001b[0mparse_int\u001b[0m \u001b[0;32mis\u001b[0m \u001b[0;32mNone\u001b[0m \u001b[0;32mand\u001b[0m \u001b[0mparse_float\u001b[0m \u001b[0;32mis\u001b[0m \u001b[0;32mNone\u001b[0m \u001b[0;32mand\u001b[0m\u001b[0;34m\u001b[0m\u001b[0;34m\u001b[0m\u001b[0m\n\u001b[1;32m    353\u001b[0m             parse_constant is None and object_pairs_hook is None and not kw):\n\u001b[0;32m--> 354\u001b[0;31m         \u001b[0;32mreturn\u001b[0m \u001b[0m_default_decoder\u001b[0m\u001b[0;34m.\u001b[0m\u001b[0mdecode\u001b[0m\u001b[0;34m(\u001b[0m\u001b[0ms\u001b[0m\u001b[0;34m)\u001b[0m\u001b[0;34m\u001b[0m\u001b[0;34m\u001b[0m\u001b[0m\n\u001b[0m\u001b[1;32m    355\u001b[0m     \u001b[0;32mif\u001b[0m \u001b[0mcls\u001b[0m \u001b[0;32mis\u001b[0m \u001b[0;32mNone\u001b[0m\u001b[0;34m:\u001b[0m\u001b[0;34m\u001b[0m\u001b[0;34m\u001b[0m\u001b[0m\n\u001b[1;32m    356\u001b[0m         \u001b[0mcls\u001b[0m \u001b[0;34m=\u001b[0m \u001b[0mJSONDecoder\u001b[0m\u001b[0;34m\u001b[0m\u001b[0;34m\u001b[0m\u001b[0m\n",
            "\u001b[0;32m/usr/lib/python3.6/json/decoder.py\u001b[0m in \u001b[0;36mdecode\u001b[0;34m(self, s, _w)\u001b[0m\n\u001b[1;32m    340\u001b[0m         \u001b[0mend\u001b[0m \u001b[0;34m=\u001b[0m \u001b[0m_w\u001b[0m\u001b[0;34m(\u001b[0m\u001b[0ms\u001b[0m\u001b[0;34m,\u001b[0m \u001b[0mend\u001b[0m\u001b[0;34m)\u001b[0m\u001b[0;34m.\u001b[0m\u001b[0mend\u001b[0m\u001b[0;34m(\u001b[0m\u001b[0;34m)\u001b[0m\u001b[0;34m\u001b[0m\u001b[0;34m\u001b[0m\u001b[0m\n\u001b[1;32m    341\u001b[0m         \u001b[0;32mif\u001b[0m \u001b[0mend\u001b[0m \u001b[0;34m!=\u001b[0m \u001b[0mlen\u001b[0m\u001b[0;34m(\u001b[0m\u001b[0ms\u001b[0m\u001b[0;34m)\u001b[0m\u001b[0;34m:\u001b[0m\u001b[0;34m\u001b[0m\u001b[0;34m\u001b[0m\u001b[0m\n\u001b[0;32m--> 342\u001b[0;31m             \u001b[0;32mraise\u001b[0m \u001b[0mJSONDecodeError\u001b[0m\u001b[0;34m(\u001b[0m\u001b[0;34m\"Extra data\"\u001b[0m\u001b[0;34m,\u001b[0m \u001b[0ms\u001b[0m\u001b[0;34m,\u001b[0m \u001b[0mend\u001b[0m\u001b[0;34m)\u001b[0m\u001b[0;34m\u001b[0m\u001b[0;34m\u001b[0m\u001b[0m\n\u001b[0m\u001b[1;32m    343\u001b[0m         \u001b[0;32mreturn\u001b[0m \u001b[0mobj\u001b[0m\u001b[0;34m\u001b[0m\u001b[0;34m\u001b[0m\u001b[0m\n\u001b[1;32m    344\u001b[0m \u001b[0;34m\u001b[0m\u001b[0m\n",
            "\u001b[0;31mJSONDecodeError\u001b[0m: Extra data: line 1 column 804 (char 803)"
          ]
        }
      ]
    },
    {
      "cell_type": "code",
      "metadata": {
        "id": "QSQtX8ACYRAq",
        "outputId": "3cfeebce-3100-4843-bb33-c5f1c367445f",
        "colab": {
          "base_uri": "https://localhost:8080/"
        }
      },
      "source": [
        "main.writing_meaning(data2)"
      ],
      "execution_count": null,
      "outputs": [
        {
          "output_type": "stream",
          "text": [
            "How many tasks would you want?7\n"
          ],
          "name": "stdout"
        }
      ]
    },
    {
      "cell_type": "code",
      "metadata": {
        "id": "rDGs_T6YXH0c"
      },
      "source": [
        "main.solution(data2)"
      ],
      "execution_count": null,
      "outputs": []
    },
    {
      "cell_type": "code",
      "metadata": {
        "id": "e0r5dIJWW7Nf",
        "outputId": "9155384e-a628-4b3e-b712-802a6985ef22",
        "colab": {
          "base_uri": "https://localhost:8080/"
        }
      },
      "source": [
        "!zip -r \"$data2.script_dir\" \"$data2.script_dir\" "
      ],
      "execution_count": null,
      "outputs": [
        {
          "output_type": "stream",
          "text": [
            "  adding: content/урок7[:-1]_tasks/ (stored 0%)\n",
            "  adding: content/урок7[:-1]_tasks/3.txt (deflated 85%)\n",
            "  adding: content/урок7[:-1]_tasks/0.txt (deflated 85%)\n",
            "  adding: content/урок7[:-1]_tasks/2.txt (deflated 85%)\n",
            "  adding: content/урок7[:-1]_tasks/4.txt (deflated 85%)\n",
            "  adding: content/урок7[:-1]_tasks/урок7[:-1]_sol.txt (deflated 70%)\n",
            "  adding: content/урок7[:-1]_tasks/1.txt (deflated 85%)\n",
            "  adding: content/урок7[:-1]_tasks/6.txt (deflated 85%)\n",
            "  adding: content/урок7[:-1]_tasks/5.txt (deflated 85%)\n"
          ],
          "name": "stdout"
        }
      ]
    },
    {
      "cell_type": "code",
      "metadata": {
        "id": "mkg_C9L4KNz-"
      },
      "source": [
        "#conjugate.conjugate()"
      ],
      "execution_count": null,
      "outputs": []
    },
    {
      "cell_type": "code",
      "metadata": {
        "id": "Uh0Ksgl6LNzz",
        "outputId": "b8ad532b-58db-4d54-ba91-145186d1d7d1",
        "colab": {
          "base_uri": "https://localhost:8080/"
        }
      },
      "source": [
        "!zip -r \"/content/русский\" \"/content/русский\""
      ],
      "execution_count": null,
      "outputs": [
        {
          "output_type": "stream",
          "text": [
            "  adding: content/русский/ (stored 0%)\n",
            "  adding: content/русский/.ipynb_checkpoints/ (stored 0%)\n",
            "  adding: content/русский/init.py (deflated 63%)\n",
            "  adding: content/русский/tools.py (deflated 74%)\n",
            "  adding: content/русский/store.py (stored 0%)\n",
            "  adding: content/русский/setup.py (deflated 58%)\n"
          ],
          "name": "stdout"
        }
      ]
    },
    {
      "cell_type": "code",
      "metadata": {
        "id": "cnPVZHYALVHe"
      },
      "source": [
        ""
      ],
      "execution_count": null,
      "outputs": []
    }
  ]
}