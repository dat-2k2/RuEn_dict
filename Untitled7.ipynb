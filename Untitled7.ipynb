{
  "nbformat": 4,
  "nbformat_minor": 0,
  "metadata": {
    "colab": {
      "name": "Untitled7.ipynb",
      "provenance": [],
      "collapsed_sections": []
    },
    "kernelspec": {
      "name": "python3",
      "display_name": "Python 3"
    }
  },
  "cells": [
    {
      "cell_type": "code",
      "metadata": {
        "id": "bPOdwHjYl7OA"
      },
      "source": [
        "\n",
        "from numpy import random\n",
        "import numpy as np\n",
        "from google.colab import files\n",
        "import os "
      ],
      "execution_count": 58,
      "outputs": []
    },
    {
      "cell_type": "code",
      "metadata": {
        "id": "abzqN1Ty3YnZ"
      },
      "source": [
        "#please upload your card files before running below commands"
      ],
      "execution_count": 59,
      "outputs": []
    },
    {
      "cell_type": "code",
      "metadata": {
        "id": "XenMG6X_Hv09"
      },
      "source": [
        "separator = \";\""
      ],
      "execution_count": 60,
      "outputs": []
    },
    {
      "cell_type": "code",
      "metadata": {
        "id": "xrKZ-JoNYCWv"
      },
      "source": [
        "namefile = \"testing.txt\"\n",
        "filea = open(namefile,'r')\n",
        "filea.close()"
      ],
      "execution_count": 61,
      "outputs": []
    },
    {
      "cell_type": "code",
      "metadata": {
        "id": "5AmrpdiB4F54",
        "outputId": "5c0ade87-3ae1-4a2a-8fc5-d1d38e9cec78",
        "colab": {
          "base_uri": "https://localhost:8080/"
        }
      },
      "source": [
        "!mkdir /content/writing_meaning"
      ],
      "execution_count": 62,
      "outputs": [
        {
          "output_type": "stream",
          "text": [
            "mkdir: cannot create directory ‘/content/writing_meaning’: File exists\n"
          ],
          "name": "stdout"
        }
      ]
    },
    {
      "cell_type": "code",
      "metadata": {
        "id": "x5XZ99vzZFge"
      },
      "source": [
        "class word():\n",
        "  def __init__(self, word, meaning):\n",
        "    self.word = word\n",
        "    self.meaning = meaning"
      ],
      "execution_count": 63,
      "outputs": []
    },
    {
      "cell_type": "code",
      "metadata": {
        "id": "iEmPokQ8Z99_"
      },
      "source": [
        "def setup(name_file):\n",
        "  f = open(name_file, 'r')\n",
        "  Lines = f.readlines()\n",
        "  res = []\n",
        "  for x in Lines:\n",
        "    n = len(x)\n",
        "    string1 = ''\n",
        "    i = 0\n",
        "    while i < n:\n",
        "      if x[i] != separator:\n",
        "        string1 = string1 + x[i]\n",
        "        i = i + 1\n",
        "      else: break\n",
        "    string2 = ''\n",
        "    while i < n:\n",
        "      if x[i] != separator:\n",
        "        string2 = string2 + x[i]\n",
        "      i = i + 1\n",
        "    x = word(string1, string2)\n",
        "    res.append(x)\n",
        "  f.close()\n",
        "  return res\n",
        "  \n",
        "\n",
        "  "
      ],
      "execution_count": 64,
      "outputs": []
    },
    {
      "cell_type": "code",
      "metadata": {
        "id": "hOn4lLaZMbiR"
      },
      "source": [
        "def reverse_card(name_card):\n",
        "  newLines = setup(name_card)\n",
        "  l = len(newLines)\n",
        "  file2 = open(name_card + \"[:-1]\", 'w')\n",
        "  for x in newLines:\n",
        "    t = x.meaning.rstrip(\"\\n\") + '; ' + x.word\n",
        "    file2.writelines(t)\n",
        "    file2.writelines(\"\\n\")\n",
        "  file2.close()"
      ],
      "execution_count": 65,
      "outputs": []
    },
    {
      "cell_type": "code",
      "metadata": {
        "id": "1f2PJUS8oY_n"
      },
      "source": [
        "#input: name of file (string) and number of tasks (integer larger than 0)\n",
        "class task():\n",
        "  def writing_meaning(name_file,numberoftasks):\n",
        "    Lines = []\n",
        "    L = setup(name_file)\n",
        "    for x in L:\n",
        "      Lines.append(x.word)\n",
        "    l = len(Lines)\n",
        "    arr = []\n",
        "    for x in range (0,l):\n",
        "      arr.append(x)\n",
        "    arr = np.array(arr)\n",
        "    need = []\n",
        "    script_dir = \"/content/writing_meaning/\"\n",
        "    for x in range (0,numberoftasks):\n",
        "      name = str(x) + '.txt'\n",
        "      abs_file_path = script_dir + name\n",
        "      filet = open(abs_file_path, 'w')\n",
        "      temp  = random.permutation(arr)\n",
        "      res = []\n",
        "      count = True \n",
        "      for x in temp: \n",
        "        if (count == True): \n",
        "          filet.write(Lines[x].rstrip(\"\\n\"))\n",
        "          filet.write(\"                            \".rstrip(\"\\n\"))\n",
        "          count = not count\n",
        "        else:\n",
        "          filet.write(Lines[x]+\"                    \")\n",
        "          filet.write(\"\\n\")\n",
        "          filet.write(\"\\n\")\n",
        "          count = not count    \n",
        "        \n",
        "      filet.close()\n",
        "  def solution(name_file):\n",
        "    name = name_file + \"sol_.txt\" \n",
        "    path = os.path.join(\"writing_meaning/\",name)\n",
        "    f = open(path,'w')\n",
        "    L = setup(name_file)\n",
        "    for x in L:\n",
        "      f.writelines(x.word.rstrip(\"\\n\") + \": \" + x.meaning)\n",
        "      f.writelines(\"\\n\")\n",
        "    f.close()"
      ],
      "execution_count": 75,
      "outputs": []
    },
    {
      "cell_type": "code",
      "metadata": {
        "id": "QSQtX8ACYRAq"
      },
      "source": [
        "writing_meaning(namefile,7)\n"
      ],
      "execution_count": 76,
      "outputs": []
    },
    {
      "cell_type": "code",
      "metadata": {
        "id": "SS6KurEY9cQK"
      },
      "source": [
        "task.solution(namefile)"
      ],
      "execution_count": 77,
      "outputs": []
    },
    {
      "cell_type": "code",
      "metadata": {
        "id": "e0r5dIJWW7Nf",
        "outputId": "a4f4dcde-3763-4250-f524-2e7724fe3daf",
        "colab": {
          "base_uri": "https://localhost:8080/"
        }
      },
      "source": [
        "!zip -r \"/content/writing_meaning\" \"/content/writing_meaning\""
      ],
      "execution_count": 78,
      "outputs": [
        {
          "output_type": "stream",
          "text": [
            "updating: content/writing_meaning/ (stored 0%)\n",
            "updating: content/writing_meaning/0.txt (deflated 78%)\n",
            "updating: content/writing_meaning/6.txt (deflated 78%)\n",
            "updating: content/writing_meaning/1.txt (deflated 78%)\n",
            "updating: content/writing_meaning/4.txt (deflated 78%)\n",
            "updating: content/writing_meaning/3.txt (deflated 78%)\n",
            "updating: content/writing_meaning/2.txt (deflated 78%)\n",
            "updating: content/writing_meaning/5.txt (deflated 78%)\n",
            "  adding: content/writing_meaning/testing.txtsol_.txt (deflated 38%)\n"
          ],
          "name": "stdout"
        }
      ]
    },
    {
      "cell_type": "code",
      "metadata": {
        "id": "9nMNQssbhzs5"
      },
      "source": [
        ""
      ],
      "execution_count": 12,
      "outputs": []
    }
  ]
}