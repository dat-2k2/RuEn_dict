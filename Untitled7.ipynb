{
  "nbformat": 4,
  "nbformat_minor": 0,
  "metadata": {
    "colab": {
      "name": "Untitled7.ipynb",
      "provenance": [],
      "collapsed_sections": []
    },
    "kernelspec": {
      "name": "python3",
      "display_name": "Python 3"
    }
  },
  "cells": [
    {
      "cell_type": "code",
      "metadata": {
        "id": "bPOdwHjYl7OA"
      },
      "source": [
        "\n",
        "from numpy import random\n",
        "import numpy as np\n",
        "from google.colab import files\n",
        "import os "
      ],
      "execution_count": 82,
      "outputs": []
    },
    {
      "cell_type": "code",
      "metadata": {
        "id": "XenMG6X_Hv09"
      },
      "source": [
        "separator = \";\""
      ],
      "execution_count": 83,
      "outputs": []
    },
    {
      "cell_type": "code",
      "metadata": {
        "id": "0xKv6UULK9Od"
      },
      "source": [
        "def reverse(x):\n",
        "  n = len(x)\n",
        "  string1 = ''\n",
        "  i = 0\n",
        "  while i < n:\n",
        "    if x[i] != separator:\n",
        "      string1 = string1 + x[i]\n",
        "      i = i + 1\n",
        "    else: break\n",
        "  string2 = ''\n",
        "  while i < n:\n",
        "    if x[i] != separator:\n",
        "      string2 = string2 + x[i]\n",
        "    i = i + 1\n",
        "  result = string2.rstrip(\"\\n\") + ';' + string1\n",
        "  return result\n",
        "\n",
        "\n",
        " \n",
        " "
      ],
      "execution_count": 98,
      "outputs": []
    },
    {
      "cell_type": "code",
      "metadata": {
        "id": "hOn4lLaZMbiR"
      },
      "source": [
        "def reverse_card(name_card):\n",
        "  file1 = open(name_card,'r', newline=\"\")\n",
        "  newLines = file1.readlines()\n",
        "  l = len(newLines)\n",
        "  file2 = open(name1 + \"[:-1]\", 'w')\n",
        "  for x in newLines:\n",
        "    x = reverse(x)\n",
        "    file2.writelines(x.rstrip(\"\\n\"))\n",
        "    file2.write(\"\\n\")\n",
        "  file2.close()"
      ],
      "execution_count": 99,
      "outputs": []
    },
    {
      "cell_type": "code",
      "metadata": {
        "id": "1f2PJUS8oY_n"
      },
      "source": [
        "#input: name of file (string) and number of tasks (integer larger than 0)\n",
        "def writing_meaning(name_file,numberoftasks):\n",
        "  file1 = open(name_file,'r')\n",
        "  Lines = file1.readlines()\n",
        "  l = len(Lines)\n",
        "  arr = []\n",
        "  for x in range (0,l):\n",
        "    arr.append(x)\n",
        "  arr = np.array(arr)\n",
        "  need = []\n",
        "  script_dir = \"/content/writing_meaning\"\n",
        "  for x in range (0,numberoftasks):\n",
        "    name = 'task_' + str(x) + '.txt'\n",
        "    abs_file_path = script_dir + name\n",
        "    filet = open(abs_file_path, 'w')\n",
        "    temp  = random.permutation(arr)\n",
        "    res = []\n",
        "    count = True \n",
        "    for x in temp: \n",
        "      if (count == True): \n",
        "        filet.write(Lines[x].rstrip(\"\\n\"))\n",
        "        filet.write(\"                   \".rstrip(\"\\n\"))\n",
        "        count = not count\n",
        "      else:\n",
        "        filet.write(Lines[x]+\"                    \")\n",
        "        filet.write(\"\\n\")\n",
        "        count = not count    \n",
        "    filet.close()"
      ],
      "execution_count": 100,
      "outputs": []
    },
    {
      "cell_type": "code",
      "metadata": {
        "id": "QY0XEE7pU3Yk",
        "outputId": "de877610-c68f-499b-b6c4-43778801011b",
        "colab": {
          "base_uri": "https://localhost:8080/"
        }
      },
      "source": [
        "reverse_card(\"card_data.txt\")"
      ],
      "execution_count": 101,
      "outputs": [
        {
          "output_type": "stream",
          "text": [
            "па етой причиние;for this reason\n",
            "\n",
            "for this reason;па етой причиние\n",
            "в результате;as a result\n",
            "\n",
            "as a result;в результате\n",
            "но;but\n",
            "\n",
            "but;но\n",
            "где;where\n",
            "\n",
            "where;где\n",
            "тоже;too\n",
            "\n",
            "too;тоже\n",
            "Дополнительно;additionally\n",
            "\n",
            "additionally;Дополнительно\n",
            "более того;moreover\n",
            "\n",
            "moreover;более того\n",
            "следовательно;therefore\n",
            "\n",
            "therefore;следовательно\n",
            "можно;can, may;In question, use it with verb in nominative case (case 1)\n",
            "\n",
            "can, mayIn question, use it with verb in nominative case (case 1);можно\n",
            "часто;often\n",
            "\n",
            "often;часто\n",
            "потому что;because\n",
            "\n",
            "because;потому что\n",
            "дрижно;together\n",
            "\n",
            "together;дрижно\n",
            "помимо;beside\n",
            "\n",
            "beside;помимо\n",
            "кроме;except\n",
            "\n",
            "except;кроме\n",
            "именно;exactly \n",
            "\n",
            "exactly ;именно\n",
            "обосенно;especially\n",
            "\n",
            "especially;обосенно\n",
            "чем;than, instead of, rather\n",
            "than, instead of, rather;чем\n"
          ],
          "name": "stdout"
        }
      ]
    },
    {
      "cell_type": "code",
      "metadata": {
        "id": "UNaoL3YTa0K_"
      },
      "source": [
        ""
      ],
      "execution_count": 97,
      "outputs": []
    }
  ]
}