{
  "nbformat": 4,
  "nbformat_minor": 0,
  "metadata": {
    "colab": {
      "name": "Untitled7.ipynb",
      "provenance": [],
      "collapsed_sections": []
    },
    "kernelspec": {
      "name": "python3",
      "display_name": "Python 3"
    }
  },
  "cells": [
    {
      "cell_type": "code",
      "metadata": {
        "id": "bPOdwHjYl7OA"
      },
      "source": [
        "\n",
        "from numpy import random\n",
        "import numpy as np\n",
        "from google.colab import files\n",
        "import os "
      ],
      "execution_count": 71,
      "outputs": []
    },
    {
      "cell_type": "code",
      "metadata": {
        "id": "abzqN1Ty3YnZ"
      },
      "source": [
        "#please enter your file name before running below commands"
      ],
      "execution_count": 72,
      "outputs": []
    },
    {
      "cell_type": "code",
      "metadata": {
        "id": "xrKZ-JoNYCWv",
        "outputId": "aa40e63a-01c6-4d79-f9fa-9029d135bdf5",
        "colab": {
          "base_uri": "https://localhost:8080/"
        }
      },
      "source": [
        "separator = \"\"\n",
        "namefile = \"\"\n",
        "separator = input(\"Enter the sepаrator: \")\n",
        "namefile = input(\"Enter the input file: \")\n",
        "try:\n",
        "  filea = open(namefile, 'r')\n",
        "except FileNotFoundError:\n",
        "  filea = open(namefile,'w+')\n",
        "  \n",
        "filea.close()\n",
        "print(separator)\n",
        "print(namefile)"
      ],
      "execution_count": 144,
      "outputs": [
        {
          "output_type": "stream",
          "text": [
            "Enter the sepаrator: ;\n",
            "Enter the input file: оващи\n",
            ";\n",
            "оващи\n"
          ],
          "name": "stdout"
        }
      ]
    },
    {
      "cell_type": "code",
      "metadata": {
        "id": "ydPwomFYU-sm"
      },
      "source": [
        "d = \"/content/\"\n",
        "s = namefile + \"_tasks\"\n",
        "!mkdir -p \"$d$s\"\n",
        "script_dir = os.path.join(d,s)"
      ],
      "execution_count": 146,
      "outputs": []
    },
    {
      "cell_type": "markdown",
      "metadata": {
        "id": "WiBKeLAUa3G2"
      },
      "source": [
        ""
      ]
    },
    {
      "cell_type": "code",
      "metadata": {
        "id": "x5XZ99vzZFge"
      },
      "source": [
        "class word():\n",
        "  def __init__(self, word, meaning):\n",
        "    self.word = word\n",
        "    self.meaning = meaning"
      ],
      "execution_count": 145,
      "outputs": []
    },
    {
      "cell_type": "code",
      "metadata": {
        "id": "iEmPokQ8Z99_"
      },
      "source": [
        "def setup(name_file):\n",
        "  f = open(name_file, 'r')\n",
        "  Lines = f.readlines()\n",
        "  res = []\n",
        "  for x in Lines:\n",
        "    n = len(x)\n",
        "    string1 = ''\n",
        "    i = 0\n",
        "    while i < n:\n",
        "      if x[i] != separator:\n",
        "        string1 = string1 + x[i]\n",
        "        i = i + 1\n",
        "      else: break\n",
        "    string2 = ''\n",
        "    while i < n:\n",
        "      if x[i] != separator:\n",
        "        string2 = string2 + x[i]\n",
        "      i = i + 1\n",
        "    x = word(string1, string2)\n",
        "    res.append(x)\n",
        "  f.close()\n",
        "  return res\n",
        "  \n",
        "\n",
        "  "
      ],
      "execution_count": 147,
      "outputs": []
    },
    {
      "cell_type": "code",
      "metadata": {
        "id": "hOn4lLaZMbiR"
      },
      "source": [
        "def reverse_card(name_card):\n",
        "  newLines = setup(name_card)\n",
        "  l = len(newLines)\n",
        "  file2 = open(name_card + \"[:-1]\", 'w')\n",
        "  for x in newLines:\n",
        "    t = x.meaning.rstrip(\"\\n\") + '; ' + x.word\n",
        "    file2.writelines(t)\n",
        "    file2.writelines(\"\\n\")\n",
        "  file2.close()"
      ],
      "execution_count": 148,
      "outputs": []
    },
    {
      "cell_type": "code",
      "metadata": {
        "id": "1f2PJUS8oY_n"
      },
      "source": [
        "#input: name of file (string) and number of tasks (integer larger than 0)\n",
        "def writing_meaning(name_file,numberoftasks):\n",
        "  Lines = []\n",
        "  L = setup(name_file)\n",
        "  for x in L:\n",
        "    Lines.append(x.word)\n",
        "  l = len(Lines)\n",
        "  arr = []\n",
        "  for x in range (0,l):\n",
        "    arr.append(x)\n",
        "  arr = np.array(arr)\n",
        "  need = []\n",
        "  for x in range (0,numberoftasks):\n",
        "    name = str(x) + '.txt'\n",
        "    abs_file_path = os.path.join(script_dir,name)\n",
        "    filet = open(abs_file_path, 'w')\n",
        "    temp  = random.permutation(arr)\n",
        "    res = []\n",
        "    count = True \n",
        "    for x in temp: \n",
        "      if (count == True): \n",
        "        filet.write(Lines[x].rstrip(\"\\n\"))\n",
        "        filet.write(\"                            \".rstrip(\"\\n\"))\n",
        "        count = not count\n",
        "      else:\n",
        "        filet.write(Lines[x]+\"                    \")\n",
        "        filet.write(\"\\n\")\n",
        "        filet.write(\"\\n\")\n",
        "        count = not count    \n",
        "      \n",
        "    filet.close()\n",
        "def solution(name_file):\n",
        "  name = name_file + \"_sol_.txt\" \n",
        "  path = os.path.join(script_dir,name)\n",
        "  f = open(path,'w')\n",
        "  L = setup(name_file)\n",
        "  for x in L:\n",
        "    f.writelines(x.word.rstrip(\"\\n\") + \": \" + x.meaning)\n",
        "    f.writelines(\"\\n\")\n",
        "  f.close()"
      ],
      "execution_count": 149,
      "outputs": []
    },
    {
      "cell_type": "code",
      "metadata": {
        "id": "QSQtX8ACYRAq"
      },
      "source": [
        "writing_meaning(namefile,7)\n"
      ],
      "execution_count": 150,
      "outputs": []
    },
    {
      "cell_type": "code",
      "metadata": {
        "id": "SS6KurEY9cQK"
      },
      "source": [
        "solution(namefile)"
      ],
      "execution_count": 151,
      "outputs": []
    },
    {
      "cell_type": "code",
      "metadata": {
        "id": "e0r5dIJWW7Nf",
        "outputId": "95089627-25ec-48be-c044-9bb834f2a1d5",
        "colab": {
          "base_uri": "https://localhost:8080/"
        }
      },
      "source": [
        "!zip -r \"$script_dir\" \"$script_dir\""
      ],
      "execution_count": 141,
      "outputs": [
        {
          "output_type": "stream",
          "text": [
            "updating: content/оващи_tasks/ (stored 0%)\n",
            "updating: content/оващи_tasks/1.txt (deflated 63%)\n",
            "updating: content/оващи_tasks/6.txt (deflated 63%)\n",
            "updating: content/оващи_tasks/оващи_sol_.txt (deflated 38%)\n",
            "updating: content/оващи_tasks/3.txt (deflated 64%)\n",
            "updating: content/оващи_tasks/4.txt (deflated 63%)\n",
            "updating: content/оващи_tasks/5.txt (deflated 63%)\n",
            "updating: content/оващи_tasks/0.txt (deflated 63%)\n",
            "updating: content/оващи_tasks/2.txt (deflated 64%)\n"
          ],
          "name": "stdout"
        }
      ]
    },
    {
      "cell_type": "code",
      "metadata": {
        "id": "9nMNQssbhzs5"
      },
      "source": [
        ""
      ],
      "execution_count": null,
      "outputs": []
    }
  ]
}