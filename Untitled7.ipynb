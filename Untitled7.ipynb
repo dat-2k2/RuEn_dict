{
  "nbformat": 4,
  "nbformat_minor": 0,
  "metadata": {
    "colab": {
      "name": "Untitled7.ipynb",
      "provenance": [],
      "collapsed_sections": []
    },
    "kernelspec": {
      "name": "python3",
      "display_name": "Python 3"
    }
  },
  "cells": [
    {
      "cell_type": "code",
      "metadata": {
        "id": "bPOdwHjYl7OA"
      },
      "source": [
        "\n",
        "from numpy import random\n",
        "import numpy as np\n",
        "from google.colab import files\n",
        "import os "
      ],
      "execution_count": 80,
      "outputs": []
    },
    {
      "cell_type": "code",
      "metadata": {
        "id": "abzqN1Ty3YnZ"
      },
      "source": [
        "#please enter your file name before running below commands"
      ],
      "execution_count": 81,
      "outputs": []
    },
    {
      "cell_type": "code",
      "metadata": {
        "id": "xrKZ-JoNYCWv",
        "outputId": "63ebc208-f423-452c-ddf0-a0222657c2e8",
        "colab": {
          "base_uri": "https://localhost:8080/"
        }
      },
      "source": [
        "\n",
        "seperator = input(\"Enter the seperator: \")\n",
        "namefile = input(\"Enter the input file: \")\n",
        "try:\n",
        "  filea = open(namefile, 'r')\n",
        "except FileNotFoundError:\n",
        "  filea = open(namefile,'w+')\n",
        "  \n",
        "filea.close()"
      ],
      "execution_count": 135,
      "outputs": [
        {
          "output_type": "stream",
          "text": [
            "Enter the seperator: ;\n",
            "Enter the input file: оващи\n"
          ],
          "name": "stdout"
        }
      ]
    },
    {
      "cell_type": "code",
      "metadata": {
        "id": "Fk33esCiU_t8",
        "outputId": "f4176cb9-5cba-4b82-8804-8f124a14729b",
        "colab": {
          "base_uri": "https://localhost:8080/"
        }
      },
      "source": [
        "!mkdir --help"
      ],
      "execution_count": 138,
      "outputs": [
        {
          "output_type": "stream",
          "text": [
            "Usage: mkdir [OPTION]... DIRECTORY...\n",
            "Create the DIRECTORY(ies), if they do not already exist.\n",
            "\n",
            "Mandatory arguments to long options are mandatory for short options too.\n",
            "  -m, --mode=MODE   set file mode (as in chmod), not a=rwx - umask\n",
            "  -p, --parents     no error if existing, make parent directories as needed\n",
            "  -v, --verbose     print a message for each created directory\n",
            "  -Z                   set SELinux security context of each created directory\n",
            "                         to the default type\n",
            "      --context[=CTX]  like -Z, or if CTX is specified then set the SELinux\n",
            "                         or SMACK security context to CTX\n",
            "      --help     display this help and exit\n",
            "      --version  output version information and exit\n",
            "\n",
            "GNU coreutils online help: <http://www.gnu.org/software/coreutils/>\n",
            "Full documentation at: <http://www.gnu.org/software/coreutils/mkdir>\n",
            "or available locally via: info '(coreutils) mkdir invocation'\n"
          ],
          "name": "stdout"
        }
      ]
    },
    {
      "cell_type": "code",
      "metadata": {
        "id": "ydPwomFYU-sm"
      },
      "source": [
        "d = \"/content/\"\n",
        "s = namefile + \"_tasks\"\n",
        "!mkdir -p \"$d$s\"\n",
        "script_dir = os.path.join(d,s)"
      ],
      "execution_count": 160,
      "outputs": []
    },
    {
      "cell_type": "code",
      "metadata": {
        "id": "x5XZ99vzZFge"
      },
      "source": [
        "class word():\n",
        "  def __init__(self, word, meaning):\n",
        "    self.word = word\n",
        "    self.meaning = meaning"
      ],
      "execution_count": 161,
      "outputs": []
    },
    {
      "cell_type": "code",
      "metadata": {
        "id": "iEmPokQ8Z99_"
      },
      "source": [
        "def setup(name_file):\n",
        "  f = open(name_file, 'r')\n",
        "  Lines = f.readlines()\n",
        "  res = []\n",
        "  for x in Lines:\n",
        "    n = len(x)\n",
        "    string1 = ''\n",
        "    i = 0\n",
        "    while i < n:\n",
        "      if x[i] != separator:\n",
        "        string1 = string1 + x[i]\n",
        "        i = i + 1\n",
        "      else: break\n",
        "    string2 = ''\n",
        "    while i < n:\n",
        "      if x[i] != separator:\n",
        "        string2 = string2 + x[i]\n",
        "      i = i + 1\n",
        "    x = word(string1, string2)\n",
        "    res.append(x)\n",
        "  f.close()\n",
        "  return res\n",
        "  \n",
        "\n",
        "  "
      ],
      "execution_count": 162,
      "outputs": []
    },
    {
      "cell_type": "code",
      "metadata": {
        "id": "hOn4lLaZMbiR"
      },
      "source": [
        "def reverse_card(name_card):\n",
        "  newLines = setup(name_card)\n",
        "  l = len(newLines)\n",
        "  file2 = open(name_card + \"[:-1]\", 'w')\n",
        "  for x in newLines:\n",
        "    t = x.meaning.rstrip(\"\\n\") + '; ' + x.word\n",
        "    file2.writelines(t)\n",
        "    file2.writelines(\"\\n\")\n",
        "  file2.close()"
      ],
      "execution_count": 163,
      "outputs": []
    },
    {
      "cell_type": "code",
      "metadata": {
        "id": "1f2PJUS8oY_n"
      },
      "source": [
        "#input: name of file (string) and number of tasks (integer larger than 0)\n",
        "class task():\n",
        "  def writing_meaning(name_file,numberoftasks):\n",
        "    Lines = []\n",
        "    L = setup(name_file)\n",
        "    for x in L:\n",
        "      Lines.append(x.word)\n",
        "    l = len(Lines)\n",
        "    arr = []\n",
        "    for x in range (0,l):\n",
        "      arr.append(x)\n",
        "    arr = np.array(arr)\n",
        "    need = []\n",
        "    for x in range (0,numberoftasks):\n",
        "      name = str(x) + '.txt'\n",
        "      abs_file_path = os.path.join(script_dir,name)\n",
        "      filet = open(abs_file_path, 'w')\n",
        "      temp  = random.permutation(arr)\n",
        "      res = []\n",
        "      count = True \n",
        "      for x in temp: \n",
        "        if (count == True): \n",
        "          filet.write(Lines[x].rstrip(\"\\n\"))\n",
        "          filet.write(\"                            \".rstrip(\"\\n\"))\n",
        "          count = not count\n",
        "        else:\n",
        "          filet.write(Lines[x]+\"                    \")\n",
        "          filet.write(\"\\n\")\n",
        "          filet.write(\"\\n\")\n",
        "          count = not count    \n",
        "        \n",
        "      filet.close()\n",
        "  def solution(name_file):\n",
        "    name = name_file + \"_sol_.txt\" \n",
        "    path = os.path.join(script_dir,name)\n",
        "    f = open(path,'w')\n",
        "    L = setup(name_file)\n",
        "    for x in L:\n",
        "      f.writelines(x.word.rstrip(\"\\n\") + \": \" + x.meaning)\n",
        "      f.writelines(\"\\n\")\n",
        "    f.close()"
      ],
      "execution_count": 169,
      "outputs": []
    },
    {
      "cell_type": "code",
      "metadata": {
        "id": "QSQtX8ACYRAq"
      },
      "source": [
        "task.writing_meaning(namefile,7)\n"
      ],
      "execution_count": 170,
      "outputs": []
    },
    {
      "cell_type": "code",
      "metadata": {
        "id": "SS6KurEY9cQK"
      },
      "source": [
        "task.solution(namefile)"
      ],
      "execution_count": 171,
      "outputs": []
    },
    {
      "cell_type": "code",
      "metadata": {
        "id": "e0r5dIJWW7Nf",
        "outputId": "192a6008-d614-46c7-ca48-8384a7cd3e7b",
        "colab": {
          "base_uri": "https://localhost:8080/"
        }
      },
      "source": [
        "!zip -r \"$script_dir\" \"$script_dir\""
      ],
      "execution_count": 172,
      "outputs": [
        {
          "output_type": "stream",
          "text": [
            "  adding: content/оващи_tasks/ (stored 0%)\n",
            "  adding: content/оващи_tasks/1.txt (deflated 77%)\n",
            "  adding: content/оващи_tasks/6.txt (deflated 78%)\n",
            "  adding: content/оващи_tasks/оващи_sol_.txt (deflated 38%)\n",
            "  adding: content/оващи_tasks/3.txt (deflated 77%)\n",
            "  adding: content/оващи_tasks/4.txt (deflated 77%)\n",
            "  adding: content/оващи_tasks/5.txt (deflated 77%)\n",
            "  adding: content/оващи_tasks/0.txt (deflated 77%)\n",
            "  adding: content/оващи_tasks/2.txt (deflated 77%)\n"
          ],
          "name": "stdout"
        }
      ]
    },
    {
      "cell_type": "code",
      "metadata": {
        "id": "9nMNQssbhzs5"
      },
      "source": [
        ""
      ],
      "execution_count": 91,
      "outputs": []
    }
  ]
}