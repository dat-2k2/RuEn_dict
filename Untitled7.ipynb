{
  "nbformat": 4,
  "nbformat_minor": 0,
  "metadata": {
    "colab": {
      "name": "Untitled7.ipynb",
      "provenance": [],
      "collapsed_sections": []
    },
    "kernelspec": {
      "name": "python3",
      "display_name": "Python 3"
    }
  },
  "cells": [
    {
      "cell_type": "code",
      "metadata": {
        "id": "bPOdwHjYl7OA"
      },
      "source": [
        "from numpy import random\n",
        "import numpy as np\n",
        "from google.colab import files\n",
        "import os \n",
        "from bs4 import BeautifulSoup\n",
        "import urllib\n",
        "import pandas as pd\n"
      ],
      "execution_count": 69,
      "outputs": []
    },
    {
      "cell_type": "code",
      "metadata": {
        "id": "x5XZ99vzZFge"
      },
      "source": [
        "class word():\n",
        "  def __init__(self, word, meaning):\n",
        "    self.word = word\n",
        "    self.meaning = meaning"
      ],
      "execution_count": 70,
      "outputs": []
    },
    {
      "cell_type": "code",
      "metadata": {
        "id": "x-1NTrVcdLmr"
      },
      "source": [
        "class verb():\n",
        "  def __init__(self,w):\n",
        "    self.infinitive = w.rstrip(\" \")\n",
        "    self.meaning = ''\n",
        "    self.dictionary = []\n",
        "    self.singular1st = ''\n",
        "    self.singular2nd = ''\n",
        "    self.singular3rd = ''\n",
        "    self.plural1st = ''\n",
        "    self.plural2nd = ''\n",
        "    self.plural3rd = ''\n",
        "    self.imperative = ''\n",
        "    self.active = ''\n",
        "    self.passive = ''\n",
        "    self.adverbial = ''\n",
        "  "
      ],
      "execution_count": 141,
      "outputs": []
    },
    {
      "cell_type": "code",
      "metadata": {
        "id": "fhM1pALJc-EY"
      },
      "source": [
        "class conjugate():\n",
        "  def prepare(x):\n",
        "    if (len(x) > 0):\n",
        "      t = ''\n",
        "      for i in range (0, len(x)):\n",
        "        if ord(x[i]) in range (1040,1106):\n",
        "          t = t + x[i]\n",
        "      return t\n",
        "    else: return ''\n",
        "  def conjugate(self):\n",
        "    webpage = \"http://en.wiktionary.org/wiki/\"\n",
        "    link = urllib.parse.quote(self.infinitive)\n",
        "    webpage = urllib.parse.urljoin(webpage, link)\n",
        "    span = pd.read_html(webpage)\n",
        "    d = []\n",
        "    for x in span:\n",
        "      d.append(x.to_dict())\n",
        "    check = 0\n",
        "    for x in d: \n",
        "      if 'imperfective aspect.1' in x.keys(): \n",
        "        temp = x\n",
        "        break\n",
        "      if 'perfective aspect.1' in x.keys():\n",
        "        temp = x\n",
        "        check = 1\n",
        "        break\n",
        "    l = []\n",
        "    if check == 0 :\n",
        "      self.active = conjugate.prepare(temp['imperfective aspect.1'][2])\n",
        "      self.passive = conjugate.prepare(temp['imperfective aspect.1'][3])\n",
        "      self.adverbial = conjugate.prepare(temp['imperfective aspect.1'][4])\n",
        "      self.singular1st = conjugate.prepare(temp['imperfective aspect.1'][6])\n",
        "      self.singular2nd = conjugate.prepare(temp['imperfective aspect.1'][7])\n",
        "      self.singular3rd = conjugate.prepare(temp['imperfective aspect.1'][8])\n",
        "      self.plural1st = conjugate.prepare(temp['imperfective aspect.1'][9])\n",
        "      self.plural2nd = conjugate.prepare(temp['imperfective aspect.1'][10])\n",
        "      self.plural3rd = conjugate.prepare(temp['imperfective aspect.1'][11])\n",
        "      self.imperative = conjugate.prepare(temp['imperfective aspect.1'][13])\n",
        "    elif check == 1:\n",
        "      self.active = conjugate.prepare(temp['perfective aspect.2'][2])\n",
        "      self.passive = conjugate.prepare(temp['perfective aspect.2'][3])\n",
        "      self.adverbial = conjugate.prepare(temp['perfective aspect.2'][4])\n",
        "      self.singular1st = conjugate.prepare(temp['perfective aspect.2'][6])\n",
        "      self.singular2nd = conjugate.prepare(temp['perfective aspect.2'][7])\n",
        "      self.singular3rd = conjugate.prepare(temp['perfective aspect.2'][8])\n",
        "      self.plural1st = conjugate.prepare(temp['perfective aspect.2'][9])\n",
        "      self.plural2nd = conjugate.prepare(temp['perfective aspect.2'][10])\n",
        "      self.plural3rd = conjugate.prepare(temp['perfective aspect.2'][11])\n",
        "      self.imperative = conjugate.prepare(temp['perfective aspect.1'][13])\n"
      ],
      "execution_count": 158,
      "outputs": []
    },
    {
      "cell_type": "code",
      "metadata": {
        "id": "MusRUJq5jt46"
      },
      "source": [
        "x = verb(\"написать\")\n",
        "conjugate.conjugate(x)\n",
        "fa = open(\"1\",\"w\")\n",
        "fa.write(x.singular1st)\n",
        "fa.close()"
      ],
      "execution_count": 73,
      "outputs": []
    },
    {
      "cell_type": "code",
      "metadata": {
        "id": "okLc4McuA3LO"
      },
      "source": [
        "class Empty(Exception):\n",
        "  def __init__(self, f, message = \"Empty File! Please charge the data\"):\n",
        "    self.f = f\n",
        "    self.message = message\n",
        "    super().__init__(self.message)\n",
        "class NotDone(Exception):\n",
        "  def __init__(self, x, message = \"Please follow the instruction\"):\n",
        "    self.x = x\n",
        "    self.message = message\n",
        "    super().__init__(self.message)\n"
      ],
      "execution_count": 74,
      "outputs": []
    },
    {
      "cell_type": "code",
      "metadata": {
        "id": "PgemlsEv5zwV"
      },
      "source": [
        "class file():\n",
        "  def __init__(self):\n",
        "    self.namefile = ''\n",
        "    self.number = 0\n",
        "    self.separator = ''\n",
        "    self.L = []\n",
        "    self.script_dir = \"\"\n",
        "    self.reverse = None"
      ],
      "execution_count": 75,
      "outputs": []
    },
    {
      "cell_type": "code",
      "metadata": {
        "id": "xrKZ-JoNYCWv"
      },
      "source": [
        "class INPUT():\n",
        "  def INP(self):\n",
        "    self.separator = input(\"Enter the sepаrator: \")\n",
        "    self.namefile = input(\"Enter the input file: \")\n",
        "    self.number = int(input(\"How many tasks would you want?\"))\n",
        "    # when using the input() method, variable must have been initialized before\n",
        "    d = \"/content/\"\n",
        "    s = self.namefile + \"_tasks\"\n",
        "    !mkdir -p \"$d$s\"\n",
        "    self.script_dir = os.path.join(d,s)\n",
        "    try:\n",
        "      filea = open(self.namefile, 'r')\n",
        "    except FileNotFoundError:\n",
        "      filea = open(self.namefile,'w+') \n",
        "    print(\"PLEASE CHARGE THE DATA, TYPE 'Y' WHEN YOU'VE DONE\")\n",
        "    x = ''\n",
        "    x = input()\n",
        "    if x != 'Y' and x != 'y':\n",
        "      raise NotDone(x)\n",
        "    а = 0\n",
        "    if os.path.getsize(self.namefile) == 0:\n",
        "      raise Empty(self.namefile)\n",
        "    filea.close()\n",
        "  def setup(self):\n",
        "    f = open(self.namefile, 'r')\n",
        "    Lines = f.readlines()\n",
        "    for x in Lines:\n",
        "      n = len(x)\n",
        "      string1 = ''\n",
        "      i = 0\n",
        "      while i < n:\n",
        "        if x[i] != self.separator:\n",
        "          string1 = string1 + x[i]\n",
        "          i = i + 1\n",
        "        else: break\n",
        "      string2 = ''\n",
        "      while i < n:\n",
        "        if x[i] != self.separator:\n",
        "          string2 = string2 + x[i]\n",
        "        i = i + 1\n",
        "      x = word(string1, string2)\n",
        "      self.L.append(x)\n",
        "    f.close()\n",
        "\n",
        "class main():\n",
        "  def reverse_card(self):\n",
        "    l = len(self.L)\n",
        "    self.reverse = file()\n",
        "    self.reverse.namefile = self.namefile + \"[:-1]\"\n",
        "    self.reverse.separator = self.separator\n",
        "    file2 = open(self.reverse.namefile, 'w')\n",
        "    for x in self.L:\n",
        "      t = x.meaning.rstrip(\"\\n\") + self.reverse.separator + x.word.rstrip(\"\\n\")\n",
        "      file2.writelines(t)\n",
        "      file2.writelines(\"\\n\")\n",
        "      temp = word(x.meaning,x.word)\n",
        "      self.reverse.L.append(temp)\n",
        "    file2.close()\n",
        "\n",
        "  \n",
        "  def writing_meaning(self):\n",
        "    Lines = []\n",
        "    for x in self.L:\n",
        "      Lines.append(x.word)\n",
        "    l = len(self.L)\n",
        "    arr = []\n",
        "    for x in range (0,l):\n",
        "      arr.append(x)\n",
        "    arr = np.array(arr)\n",
        "    need = []\n",
        "    for x in range (0,self.number):\n",
        "      name = str(x) + '.txt'\n",
        "      abs_file_path = os.path.join(self.script_dir,name)\n",
        "      filet = open(abs_file_path, 'w')\n",
        "      temp  = random.permutation(arr)\n",
        "      res = []\n",
        "      count = True \n",
        "      for x in temp: \n",
        "        if (count == True): \n",
        "          filet.write(Lines[x].rstrip(\"\\n\"))\n",
        "          filet.write(\"                            \".rstrip(\"\\n\"))\n",
        "          count = not count\n",
        "        else:\n",
        "          filet.write(Lines[x]+\"                    \")\n",
        "          filet.write(\"\\n\")\n",
        "          filet.write(\"\\n\")\n",
        "          count = not count    \n",
        "      filet.close()\n",
        "  def solution(self):\n",
        "    name = str(self.namefile) + \"_sol.txt\" \n",
        "    path = os.path.join(self.script_dir,name)\n",
        "    f = open(path,'w')\n",
        "    for x in self.L:\n",
        "      f.writelines(x.word.rstrip(\"\\n\") + \": \" + x.meaning)\n",
        "      f.writelines(\"\\n\")\n",
        "    f.close()"
      ],
      "execution_count": 113,
      "outputs": []
    },
    {
      "cell_type": "code",
      "metadata": {
        "id": "I06RztBkCaZd"
      },
      "source": [
        "data = file()\n",
        "INPUT.INP(data)\n",
        "INPUT.setup(data)"
      ],
      "execution_count": null,
      "outputs": []
    },
    {
      "cell_type": "code",
      "metadata": {
        "id": "YtTOUcJ2ZDSh"
      },
      "source": [
        "fx = open(data.namefile + '1','w')\n",
        "for x in data.L:\n",
        "  y = verb(conjugate.prepare(x.word))\n",
        "  y.meaning = x.meaning\n",
        "  conjugate.conjugate(y)\n",
        "  fx.writelines(y.plural2nd.rstrip(\"\\n\"))\n",
        "  fx.writelines(\"\\n\")\n",
        "fx.close()\n",
        "  \n"
      ],
      "execution_count": 159,
      "outputs": []
    },
    {
      "cell_type": "code",
      "metadata": {
        "id": "QSQtX8ACYRAq"
      },
      "source": [
        "main.writing_meaning(data)"
      ],
      "execution_count": null,
      "outputs": []
    },
    {
      "cell_type": "code",
      "metadata": {
        "id": "rDGs_T6YXH0c"
      },
      "source": [
        "main.solution(data)"
      ],
      "execution_count": null,
      "outputs": []
    },
    {
      "cell_type": "code",
      "metadata": {
        "id": "e0r5dIJWW7Nf"
      },
      "source": [
        "!zip -r \"$data.script_dir\" \"$data.script_dir\" "
      ],
      "execution_count": null,
      "outputs": []
    },
    {
      "cell_type": "code",
      "metadata": {
        "id": "mkg_C9L4KNz-"
      },
      "source": [
        ""
      ],
      "execution_count": null,
      "outputs": []
    }
  ]
}