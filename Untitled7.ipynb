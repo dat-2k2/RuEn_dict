{
  "nbformat": 4,
  "nbformat_minor": 0,
  "metadata": {
    "colab": {
      "name": "Untitled7.ipynb",
      "provenance": [],
      "collapsed_sections": []
    },
    "kernelspec": {
      "name": "python3",
      "display_name": "Python 3"
    }
  },
  "cells": [
    {
      "cell_type": "code",
      "metadata": {
        "id": "bPOdwHjYl7OA"
      },
      "source": [
        "from numpy import random\n",
        "import numpy as np\n",
        "from google.colab import files\n",
        "import os "
      ],
      "execution_count": 34,
      "outputs": []
    },
    {
      "cell_type": "code",
      "metadata": {
        "id": "okLc4McuA3LO"
      },
      "source": [
        "class Empty(Exception):\n",
        "  def __init__(self, f, message = \"Empty File! Please charge the data\"):\n",
        "    self.f = f\n",
        "    self.message = message\n",
        "    super().__init__(self.message)\n",
        "class NotDone(Exception):\n",
        "  def __init__(self, x, message = \"Please follow the instruction\"):\n",
        "    self.x = x\n",
        "    self.message = message\n",
        "    super().__init__(self.message)"
      ],
      "execution_count": 46,
      "outputs": []
    },
    {
      "cell_type": "code",
      "metadata": {
        "id": "xrKZ-JoNYCWv"
      },
      "source": [
        "def INP():\n",
        "  separator = \"\"\n",
        "  namefile = \"\"\n",
        "  number = 0\n",
        "  separator = input(\"Enter the sepаrator: \")\n",
        "  namefile = input(\"Enter the input file: \")\n",
        "  number = input(\"How many tasks would you want?\")\n",
        "  print(\"PLEASE CHARGE THE DATA, TYPE 'Y' WHEN YOU'VE DONE\")\n",
        "  x = ''\n",
        "  x = input()\n",
        "  if x != 'Y' and x != 'y':\n",
        "    raise NotDone(x)\n",
        "  # when using the input() method, variable must have been initialized before\n",
        "  try:\n",
        "    filea = open(namefile, 'r')\n",
        "  except FileNotFoundError:\n",
        "    filea = open(namefile,'w+') \n",
        "  а = 0\n",
        "  if os.path.getsize(namefile) == 0:\n",
        "    raise Empty(namefile)\n",
        "  filea.close()\n"
      ],
      "execution_count": 48,
      "outputs": []
    },
    {
      "cell_type": "code",
      "metadata": {
        "id": "ydPwomFYU-sm"
      },
      "source": [
        "d = \"/content/\"\n",
        "s = namefile + \"_tasks\"\n",
        "!mkdir -p \"$d$s\"\n",
        "script_dir = os.path.join(d,s)"
      ],
      "execution_count": 49,
      "outputs": []
    },
    {
      "cell_type": "code",
      "metadata": {
        "id": "x5XZ99vzZFge"
      },
      "source": [
        "class word():\n",
        "  def __init__(self, word, meaning):\n",
        "    self.word = word\n",
        "    self.meaning = meaning"
      ],
      "execution_count": 50,
      "outputs": []
    },
    {
      "cell_type": "code",
      "metadata": {
        "id": "iEmPokQ8Z99_"
      },
      "source": [
        "def setup(name_file):\n",
        "  f = open(name_file, 'r')\n",
        "  Lines = f.readlines()\n",
        "  res = []\n",
        "  for x in Lines:\n",
        "    n = len(x)\n",
        "    string1 = ''\n",
        "    i = 0\n",
        "    while i < n:\n",
        "      if x[i] != separator:\n",
        "        string1 = string1 + x[i]\n",
        "        i = i + 1\n",
        "      else: break\n",
        "    string2 = ''\n",
        "    while i < n:\n",
        "      if x[i] != separator:\n",
        "        string2 = string2 + x[i]\n",
        "      i = i + 1\n",
        "    x = word(string1, string2)\n",
        "    res.append(x)\n",
        "  f.close()\n",
        "  return res\n",
        "  \n",
        "\n",
        "  "
      ],
      "execution_count": 51,
      "outputs": []
    },
    {
      "cell_type": "code",
      "metadata": {
        "id": "hOn4lLaZMbiR"
      },
      "source": [
        "def reverse_card(name_card):\n",
        "  newLines = setup(name_card)\n",
        "  l = len(newLines)\n",
        "  file2 = open(name_card + \"[:-1]\", 'w')\n",
        "  for x in newLines:\n",
        "    t = x.meaning.rstrip(\"\\n\") + '; ' + x.word\n",
        "    file2.writelines(t)\n",
        "    file2.writelines(\"\\n\")\n",
        "  file2.close()"
      ],
      "execution_count": 52,
      "outputs": []
    },
    {
      "cell_type": "code",
      "metadata": {
        "id": "1f2PJUS8oY_n"
      },
      "source": [
        "#input: name of file (string) and number of tasks (integer larger than 0)\n",
        "def writing_meaning(name_file,numberoftasks):\n",
        "  Lines = []\n",
        "  L = setup(name_file)\n",
        "  for x in L:\n",
        "    Lines.append(x.word)\n",
        "  l = len(Lines)\n",
        "  arr = []\n",
        "  for x in range (0,l):\n",
        "    arr.append(x)\n",
        "  arr = np.array(arr)\n",
        "  need = []\n",
        "  for x in range (0,numberoftasks):\n",
        "    name = str(x) + '.txt'\n",
        "    abs_file_path = os.path.join(script_dir,name)\n",
        "    filet = open(abs_file_path, 'w')\n",
        "    temp  = random.permutation(arr)\n",
        "    res = []\n",
        "    count = True \n",
        "    for x in temp: \n",
        "      if (count == True): \n",
        "        filet.write(Lines[x].rstrip(\"\\n\"))\n",
        "        filet.write(\"                            \".rstrip(\"\\n\"))\n",
        "        count = not count\n",
        "      else:\n",
        "        filet.write(Lines[x]+\"                    \")\n",
        "        filet.write(\"\\n\")\n",
        "        filet.write(\"\\n\")\n",
        "        count = not count    \n",
        "      \n",
        "    filet.close()\n",
        "def solution(name_file):\n",
        "  name = name_file + \"_sol_.txt\" \n",
        "  path = os.path.join(script_dir,name)\n",
        "  f = open(path,'w')\n",
        "  L = setup(name_file)\n",
        "  for x in L:\n",
        "    f.writelines(x.word.rstrip(\"\\n\") + \": \" + x.meaning)\n",
        "    f.writelines(\"\\n\")\n",
        "  f.close()"
      ],
      "execution_count": 53,
      "outputs": []
    },
    {
      "cell_type": "code",
      "metadata": {
        "id": "I06RztBkCaZd"
      },
      "source": [
        "INP()"
      ],
      "execution_count": null,
      "outputs": []
    },
    {
      "cell_type": "code",
      "metadata": {
        "id": "QSQtX8ACYRAq"
      },
      "source": [
        "writing_meaning(namefile,number)"
      ],
      "execution_count": null,
      "outputs": []
    },
    {
      "cell_type": "code",
      "metadata": {
        "id": "SS6KurEY9cQK"
      },
      "source": [
        "solution(namefile)"
      ],
      "execution_count": 44,
      "outputs": []
    },
    {
      "cell_type": "code",
      "metadata": {
        "id": "e0r5dIJWW7Nf"
      },
      "source": [
        "!zip -r \"$script_dir\" \"$script_dir\""
      ],
      "execution_count": null,
      "outputs": []
    }
  ]
}