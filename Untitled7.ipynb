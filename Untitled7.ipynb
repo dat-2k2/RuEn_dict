{
  "nbformat": 4,
  "nbformat_minor": 0,
  "metadata": {
    "colab": {
      "name": "Untitled7.ipynb",
      "provenance": [],
      "collapsed_sections": []
    },
    "kernelspec": {
      "name": "python3",
      "display_name": "Python 3"
    }
  },
  "cells": [
    {
      "cell_type": "code",
      "metadata": {
        "id": "bPOdwHjYl7OA"
      },
      "source": [
        "from numpy import random\n",
        "import numpy as np\n",
        "\n"
      ],
      "execution_count": 1,
      "outputs": []
    },
    {
      "cell_type": "code",
      "metadata": {
        "id": "1f2PJUS8oY_n"
      },
      "source": [
        "file1 = open('rus.txt','r')\n",
        "Lines = file1.readlines()\n",
        "l = len(Lines)\n",
        "arr = []\n",
        "for x in range (0,l):\n",
        "  arr.append(x)\n",
        "arr = np.array(arr)\n",
        "for x in range (0,5):\n",
        "  filet = open(str(x) + '.txt','w')\n",
        "  temp  = random.permutation(arr)\n",
        "  for x in temp: \n",
        "    filet.writelines(Lines[x])\n",
        "  filet.close()\n"
      ],
      "execution_count": 15,
      "outputs": []
    },
    {
      "cell_type": "code",
      "metadata": {
        "id": "pNjg-1oIpF3w"
      },
      "source": [
        ""
      ],
      "execution_count": null,
      "outputs": []
    }
  ]
}