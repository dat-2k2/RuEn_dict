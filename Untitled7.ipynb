{
  "nbformat": 4,
  "nbformat_minor": 0,
  "metadata": {
    "colab": {
      "name": "Untitled7.ipynb",
      "provenance": [],
      "collapsed_sections": []
    },
    "kernelspec": {
      "name": "python3",
      "display_name": "Python 3"
    },
    "accelerator": "GPU"
  },
  "cells": [
    {
      "cell_type": "code",
      "metadata": {
        "id": "bPOdwHjYl7OA"
      },
      "source": [
        "from numpy import random\n",
        "import numpy as np\n",
        "from google.colab import files\n",
        "import os \n",
        "from bs4 import BeautifulSoup\n",
        "import urllib\n",
        "import pandas as pd\n",
        "import json\n",
        "from json import JSONEncoder"
      ],
      "execution_count": 2,
      "outputs": []
    },
    {
      "cell_type": "code",
      "metadata": {
        "id": "x5XZ99vzZFge"
      },
      "source": [
        "class word():\n",
        "  def __init__(self, word, meaning):\n",
        "    self.word = word\n",
        "    self.meaning = meaning\n",
        "    self.old = False \n",
        "    self.error = False"
      ],
      "execution_count": 1,
      "outputs": []
    },
    {
      "cell_type": "code",
      "metadata": {
        "id": "s3vZdSidmi0H"
      },
      "source": [
        "class prepare():\r\n",
        "  def keep_russian(self):\r\n",
        "      return (''.join([x for x in self if ord(x) in range (1040,1106)]))\r\n",
        "  def keep_latin(self):\r\n",
        "      return (''.join([x for x in self if ord(x) in range (65,91) or ord(x) in range (97,123)]))"
      ],
      "execution_count": 23,
      "outputs": []
    },
    {
      "cell_type": "code",
      "metadata": {
        "id": "x-1NTrVcdLmr"
      },
      "source": [
        "class verb():\n",
        "  def __init__(self,w):\n",
        "    self.infinitive = w.rstrip(\" \")\n",
        "    self.meaning = ''\n",
        "    self.dictionary = []\n",
        "    self.singular1st = ''\n",
        "    self.singular2nd = ''\n",
        "    self.singular3rd = ''\n",
        "    self.plural1st = ''\n",
        "    self.plural2nd = ''\n",
        "    self.plural3rd = ''\n",
        "    self.imperative = ''\n",
        "    self.active = ''\n",
        "    self.passive = ''\n",
        "    self.adverbial = ''\n",
        "    self.error = False \n",
        "    self.perfective = ''\n",
        "    self.imperfective = ''\n",
        "    self.kind = ''\n",
        "  def tojson(self):\n",
        "    return json.dumps(self, default=lambda o: o.__dict__)"
      ],
      "execution_count": 3,
      "outputs": []
    },
    {
      "cell_type": "code",
      "metadata": {
        "id": "v5EY6Au0ygLD"
      },
      "source": [
        "class sub_adj():\n",
        "  def __init__(self):\n",
        "    self.L = []\n",
        "    self.nominative = \"\"\n",
        "    self.genitive = \"\"\n",
        "    self.dative = \"\"\n",
        "    self.accusative = \"\"\n",
        "    self.instrumental = \"\"\n",
        "    self.prepositional = \"\"\n",
        "  def change(self,x):\n",
        "    self.nominative = x[0]\n",
        "    self.genitive = x[1]\n",
        "    self.dative = x[2]\n",
        "    self.accusative = x[3]\n",
        "    self.instrumental = x[4]\n",
        "    self.prepositional = x[5]\n",
        "class adj():\n",
        "  def __init__(self,w):\n",
        "    self.word = w\n",
        "    self.masculine = sub_adj()\n",
        "    self.feminine= sub_adj()\n",
        "    self.neuter = sub_adj()\n",
        "    self.plural = sub_adj()\n",
        "    self.error = False\n",
        "  def conjugate(self):\n",
        "    webpage = \"http://en.wiktionary.org/wiki/\"\n",
        "    link = urllib.parse.quote(prepare.keep_russian(self.word))\n",
        "    webpage = urllib.parse.urljoin(webpage, link)\n",
        "    try:\n",
        "      urllib.request.urlopen(webpage)\n",
        "    except urllib.error.HTTPError:\n",
        "      self.error = True\n",
        "    if self.error == False:\n",
        "      span = pd.read_html(webpage)\n",
        "      d = span[1].to_dict()\n",
        "      masculine = list(d['masculine'].values())\n",
        "      for i in range (0,7): \n",
        "        x = masculine[i]\n",
        "        x = str(x)\n",
        "        if len(x) == 0 or i == 4:\n",
        "          continue\n",
        "        else:\n",
        "          self.masculine.L.append(prepare.keep_russian(x))\n",
        "      self.masculine.change(self.masculine.L)\n",
        "      feminine = list(d['feminine'].values())\n",
        "      for i in range (0,7):  \n",
        "        x = feminine[i]\n",
        "        x = str(x)\n",
        "        if len(x) == 0 or i == 4:\n",
        "          continue\n",
        "        else:\n",
        "          self.feminine.L.append(prepare.keep_russian(x))\n",
        "      self.feminine.change(self.feminine.L)\n",
        "      neuter = list(d['neuter'].values())\n",
        "      for i in range (0,7): \n",
        "        x = neuter[i]\n",
        "        x = str(x) \n",
        "        if len(x) == 0 or i == 4:\n",
        "          continue\n",
        "        else:\n",
        "          self.neuter.L.append(prepare.keep_russian(x))\n",
        "      self.neuter.change(self.neuter.L)\n",
        "      plural = list(d['plural'].values())\n",
        "      for i in range (0,7):  \n",
        "        x = plural[i]\n",
        "        x = str(x)\n",
        "        if len(x) == 0 or i == 4:\n",
        "          continue\n",
        "        else:\n",
        "          self.plural.L.append(prepare.keep_russian(x))\n",
        "      self.plural.change(self.plural.L)\n",
        "    d = {'masculine': self.masculine.L, 'feminine': self.feminine.L, 'neuter':self.neuter.L, 'plural':self.plural.L}\n",
        "    pd.set_option(\"display.max_rows\", None, \"display.max_columns\", None)\n",
        "    print(pd.DataFrame.from_dict(d, orient = 'index', columns = ['nominative','genitive','dative','accusative','instrumental','prepositional']))\n",
        "        \n",
        "\n",
        "\n",
        "    "
      ],
      "execution_count": 4,
      "outputs": []
    },
    {
      "cell_type": "code",
      "metadata": {
        "id": "fhM1pALJc-EY"
      },
      "source": [
        "class conjugate():\n",
        "  def conjugate(self):\n",
        "    webpage = \"http://en.wiktionary.org/wiki/\"\n",
        "    link = urllib.parse.quote(self.infinitive)\n",
        "    webpage = urllib.parse.urljoin(webpage, link)\n",
        "    try:\n",
        "      urllib.request.urlopen(webpage)\n",
        "    except urllib.error.HTTPError:\n",
        "      self.error = True\n",
        "    if self.error == False:\n",
        "      span = pd.read_html(webpage)\n",
        "      d = []\n",
        "      for x in span:\n",
        "        d.append(x.to_dict())\n",
        "      check = 2\n",
        "      temp = {}\n",
        "      for x in d: \n",
        "        if 'imperfective aspect.1' in x.keys(): \n",
        "          temp = x\n",
        "          check = 0\n",
        "          break\n",
        "        if 'perfective aspect.1' in x.keys():\n",
        "          temp = x\n",
        "          check = 1\n",
        "          break\n",
        "      l = []\n",
        "      if check == 0 :\n",
        "        self.active = prepare.keep_russian(temp['imperfective aspect.1'][2])\n",
        "        self.passive = prepare.keep_russian(temp['imperfective aspect.1'][3])\n",
        "        self.adverbial = prepare.keep_russian(temp['imperfective aspect.1'][4])\n",
        "        self.singular1st = prepare.keep_russian(temp['imperfective aspect.1'][6])\n",
        "        self.singular2nd = prepare.keep_russian(temp['imperfective aspect.1'][7])\n",
        "        self.singular3rd = prepare.keep_russian(temp['imperfective aspect.1'][8])\n",
        "        self.plural1st = prepare.keep_russian(temp['imperfective aspect.1'][9])\n",
        "        self.plural2nd = prepare.keep_russian(temp['imperfective aspect.1'][10])\n",
        "        self.plural3rd = prepare.keep_russian(temp['imperfective aspect.1'][11])\n",
        "        self.imperative = prepare.keep_russian(temp['imperfective aspect.1'][13])\n",
        "      elif check == 1:\n",
        "        self.active = prepare.keep_russian(temp['perfective aspect.2'][2])\n",
        "        self.passive = prepare.keep_russian(temp['perfective aspect.2'][3])\n",
        "        self.adverbial = prepare.keep_russian(temp['perfective aspect.2'][4])\n",
        "        self.singular1st = prepare.keep_russian(temp['perfective aspect.2'][6])\n",
        "        self.singular2nd = prepare.keep_russian(temp['perfective aspect.2'][7])\n",
        "        self.singular3rd = prepare.keep_russian(temp['perfective aspect.2'][8])\n",
        "        self.plural1st = prepare.keep_russian(temp['perfective aspect.2'][9])\n",
        "        self.plural2nd = prepare.keep_russian(temp['perfective aspect.2'][10])\n",
        "        self.plural3rd = prepare.keep_russian(temp['perfective aspect.2'][11])\n",
        "        self.imperative = prepare.keep_russian(temp['perfective aspect.1'][13])\n",
        "      else: self.error = True\n",
        "  def check_verb(self):\n",
        "    check = 2\n",
        "    webpage = \"http://en.wiktionary.org/wiki/\"\n",
        "    link = urllib.parse.quote(self.infinitive)\n",
        "    webpage = urllib.parse.urljoin(webpage, link)\n",
        "    try:\n",
        "      urllib.request.urlopen(webpage)\n",
        "    except urllib.error.HTTPError:\n",
        "      self.error = True\n",
        "    if self.error == False:\n",
        "      try:\n",
        "        span = pd.read_html(webpage)\n",
        "      except ValueError:\n",
        "        check = 2\n",
        "      else:\n",
        "        if self.error == False:\n",
        "          d = []\n",
        "          for x in span:\n",
        "            d.append(x.to_dict())\n",
        "          for x in d: \n",
        "            if 'imperfective aspect.1' in x.keys(): \n",
        "              check = 0\n",
        "              break\n",
        "            if 'perfective aspect.1' in x.keys():\n",
        "              check = 1\n",
        "              break\n",
        "    return check\n",
        "\n"
      ],
      "execution_count": 5,
      "outputs": []
    },
    {
      "cell_type": "code",
      "metadata": {
        "id": "CopCQT3y21Y_"
      },
      "source": [
        ""
      ],
      "execution_count": 5,
      "outputs": []
    },
    {
      "cell_type": "code",
      "metadata": {
        "id": "okLc4McuA3LO"
      },
      "source": [
        "class Empty(Exception):\n",
        "  def __init__(self, f, message = \"Empty File! Please charge the data\"):\n",
        "    self.f = f\n",
        "    self.message = message\n",
        "    super().__init__(self.message)\n",
        "class NotDone(Exception):\n",
        "  def __init__(self, x, message = \"Please follow the instruction\"):\n",
        "    self.x = x\n",
        "    self.message = message\n",
        "    super().__init__(self.message)\n"
      ],
      "execution_count": 6,
      "outputs": []
    },
    {
      "cell_type": "code",
      "metadata": {
        "id": "PgemlsEv5zwV"
      },
      "source": [
        "class data():\n",
        "  def __init__(self):\n",
        "    self.namefile = ''\n",
        "    self.number = 0\n",
        "    self.separator = ''\n",
        "    self.L = []\n",
        "    self.script_dir = \"\"\n",
        "    self.error = []\n",
        "    self.reverse = ''"
      ],
      "execution_count": 7,
      "outputs": []
    },
    {
      "cell_type": "code",
      "metadata": {
        "id": "xrKZ-JoNYCWv"
      },
      "source": [
        "class INPUT():\n",
        "  def INP(self):\n",
        "    self.separator = input(\"Enter the sepаrator: \")\n",
        "    self.namefile = input(\"Enter the input file: \")\n",
        "    # when using the input() method, variable must have been initialized before\n",
        "    try:\n",
        "      filea = open(self.namefile, 'r')\n",
        "    except FileNotFoundError:\n",
        "      filea = open(self.namefile,'w+') \n",
        "    print(\"PLEASE CHARGE THE DATA, TYPE 'Y' WHEN YOU'VE DONE\")\n",
        "    x = ''\n",
        "    x = input()\n",
        "    if x != 'Y' and x != 'y':\n",
        "      raise NotDone(x)\n",
        "    а = 0\n",
        "    if os.path.getsize(self.namefile) == 0:\n",
        "      raise Empty(self.namefile)\n",
        "    filea.close()\n",
        "  def setup(self):\n",
        "    #require non-empty self.namefile and self.separator\n",
        "    self.L = []\n",
        "    d = \"/content/\"\n",
        "    s = self.namefile + \"_tasks\"\n",
        "    self.script_dir = os.path.join(d,s)\n",
        "    if os.path.exists(self.script_dir) == False:\n",
        "      os.mkdir(self.script_dir) \n",
        "    f = open(self.namefile, 'r')\n",
        "    Lines = f.readlines()\n",
        "    for x in Lines:\n",
        "      n = len(x)\n",
        "      string1 = ''\n",
        "      i = 0\n",
        "      while i < n:\n",
        "        if x[i] != self.separator:\n",
        "          string1 = string1 + x[i]\n",
        "          i = i + 1\n",
        "        else: break\n",
        "      string2 = ''\n",
        "      while i < n:\n",
        "        if x[i] != self.separator:\n",
        "          string2 = string2 + x[i]\n",
        "        i = i + 1\n",
        "      x = word(string1, string2)\n",
        "      self.L.append(x)\n",
        "    f.close()\n",
        "  def arrange(self):\n",
        "    self.L.sort(key = lambda x: x.word)\n",
        "    l = len(self.L)\n",
        "    respond = ''\n",
        "    while respond not in [\"Y\",\"y\",\"N\",\"n\"]:\n",
        "      respond = input(\"Overwrite? (Y/N)\")\n",
        "      if respond in [\"Y\",'y']:\n",
        "        sort = self.namefile\n",
        "      elif respond in [\"N\",\"n\"]:\n",
        "        sort = self.namefile + \"-sorted\"\n",
        "    file2 = open(sort, 'w')\n",
        "    for x in self.L:\n",
        "      t = x.word.rstrip(\"\\n\") + self.separator + x.meaning.rstrip(\"\\n\")\n",
        "      file2.writelines(t)\n",
        "      file2.writelines(\"\\n\")\n",
        "    file2.close()\n",
        "\n"
      ],
      "execution_count": 20,
      "outputs": []
    },
    {
      "cell_type": "code",
      "metadata": {
        "id": "LrcApjm9ev_L"
      },
      "source": [
        "class main():\n",
        "  def reverse_card(self):\n",
        "    #this function will initialize self.reverse and return a reversed \"data\" object\n",
        "    l = len(self.L)\n",
        "    respond = ''\n",
        "    while respond not in [\"Y\",\"y\",\"N\",\"n\"]:\n",
        "      respond = input(\"Overwrite? (Y/N)\")\n",
        "      if respond in [\"Y\",'y']:\n",
        "        self.reverse = self.namefile\n",
        "      elif respond in [\"N\",\"n\"]:\n",
        "        self.reverse = self.namefile + \"[:-1]\"\n",
        "    file2 = open(self.reverse, 'w')\n",
        "    for x in self.L:\n",
        "      t = x.meaning.rstrip(\"\\n\") + self.separator + x.word.rstrip(\"\\n\")\n",
        "      file2.writelines(t)\n",
        "      file2.writelines(\"\\n\")\n",
        "    file2.close()\n",
        "    reverse = data()\n",
        "    reverse.namefile = self.reverse\n",
        "    reverse.separator = self.separator\n",
        "    INPUT.setup(reverse)\n",
        "    return reverse\n",
        "  def writing_meaning(self):\n",
        "    self.number = int(input(\"How many tasks would you want?\"))\n",
        "    Lines = []\n",
        "    for x in self.L:\n",
        "      Lines.append(x.word)\n",
        "    l = len(self.L)\n",
        "    arr = []\n",
        "    for x in range (0,l):\n",
        "      arr.append(x)\n",
        "    arr = np.array(arr)\n",
        "    need = []\n",
        "    for x in range (0,self.number):\n",
        "      name = str(x) + '.txt'\n",
        "      abs_file_path = os.path.join(self.script_dir,name)\n",
        "      filet = open(abs_file_path, 'w')\n",
        "      temp  = random.permutation(arr)\n",
        "      res = []\n",
        "      count = True \n",
        "      for x in temp: \n",
        "        if (count == True): \n",
        "          filet.write(Lines[x].rstrip(\"\\n\"))\n",
        "          filet.write(\"                            \".rstrip(\"\\n\"))\n",
        "          count = not count\n",
        "        else:\n",
        "          filet.write(Lines[x]+\"                    \")\n",
        "          filet.write(\"\\n\")\n",
        "          filet.write(\"\\n\")\n",
        "          count = not count    \n",
        "      filet.close()\n",
        "  def solution(self):\n",
        "    name = str(self.namefile) + \"_sol.txt\" \n",
        "    path = os.path.join(self.script_dir,name)\n",
        "    f = open(path,'w')\n",
        "    for x in self.L:\n",
        "      f.writelines(x.word.rstrip(\"\\n\") + \": \" + x.meaning)\n",
        "      f.writelines(\"\\n\")\n",
        "    f.close()\n",
        "  def conjugate(self):\n",
        "    y = verb(prepare.keep_russian(self))\n",
        "    conjugate.conjugate(y)\n",
        "    if y.error == False:\n",
        "     d = {'1st': [y.singular1st, y.plural1st], '2nd': [y.singular2nd, y.plural2nd], '3rd': [y.singular3rd, y.plural3rd] }\n",
        "     df = pd.DataFrame.from_dict(data=d, orient = 'index', columns = ['singular','plural'])\n",
        "     print(df)\n",
        "    else: print(\"This word is not a Russian verb, or mistyped\")\n",
        "  def check(self):\n",
        "    webpage = \"http://en.wiktionary.org/wiki/\"\n",
        "    link = urllib.parse.quote(prepare.keep_russian(self.word))\n",
        "    webpage = urllib.parse.urljoin(webpage, link)\n",
        "    try:\n",
        "      urllib.request.urlopen(webpage)\n",
        "    except urllib.error.HTTPError:\n",
        "      self.error = True"
      ],
      "execution_count": 9,
      "outputs": []
    },
    {
      "cell_type": "code",
      "metadata": {
        "id": "Tc0tY943BI9Q"
      },
      "source": [
        "class anki():\n",
        "  def tojson(self):\n",
        "    return json.dumps(self, default=lambda o: o.__dict__)\n",
        "  def input(self):\n",
        "    f = open(self.namefile, 'r')\n",
        "    x = f.readlines()\n",
        "    self.L = []\n",
        "    direct = open(self.namefile + \".json\", 'a+')\n",
        "    for line in x:\n",
        "      temp = line.split(\"\\t\")\n",
        "      temp1 = verb(temp[1])\n",
        "      temp1.meaning = temp[2]\n",
        "      temp1.kind = temp[3]\n",
        "      temp1.imperfective = temp[4]\n",
        "      temp1.perfective = temp[5]\n",
        "      conjugate.conjugate(temp1)\n",
        "      self.L.append(temp1) #must parse to JSON serializable \n",
        "      json.dump(temp1.tojson(), direct)\n",
        "\n",
        "\n",
        "\n",
        "    "
      ],
      "execution_count": 10,
      "outputs": []
    },
    {
      "cell_type": "code",
      "metadata": {
        "id": "I06RztBkCaZd",
        "colab": {
          "base_uri": "https://localhost:8080/"
        },
        "outputId": "4b4997df-d2d8-47eb-a4c9-dd91f41efc86"
      },
      "source": [
        "dat = data()\n",
        "INPUT.INP(dat)\n"
      ],
      "execution_count": 24,
      "outputs": [
        {
          "output_type": "stream",
          "text": [
            "Enter the sepаrator: ;\n",
            "Enter the input file: adj\n",
            "PLEASE CHARGE THE DATA, TYPE 'Y' WHEN YOU'VE DONE\n",
            "y\n"
          ],
          "name": "stdout"
        }
      ]
    },
    {
      "cell_type": "code",
      "metadata": {
        "id": "pNbhwS-zLdu9"
      },
      "source": [
        "INPUT.setup(dat)"
      ],
      "execution_count": 25,
      "outputs": []
    },
    {
      "cell_type": "code",
      "metadata": {
        "id": "2-hJjZU8kahY",
        "outputId": "da3299f3-47ff-4b1d-b2ec-4544b013ba7f",
        "colab": {
          "base_uri": "https://localhost:8080/"
        }
      },
      "source": [
        "INPUT.arrange(dat)"
      ],
      "execution_count": 26,
      "outputs": [
        {
          "output_type": "stream",
          "text": [
            "Overwrite? (Y/N)y\n"
          ],
          "name": "stdout"
        }
      ]
    },
    {
      "cell_type": "code",
      "metadata": {
        "id": "KuLmtzG8MWnu"
      },
      "source": [
        "data2 = main.reverse_card(dat)\n",
        "#error: the space between words is too wide. Need a prepare def to cut out space chars"
      ],
      "execution_count": null,
      "outputs": []
    },
    {
      "cell_type": "code",
      "metadata": {
        "id": "M-0KPsRLHzEs"
      },
      "source": [
        "anki.input(data)"
      ],
      "execution_count": null,
      "outputs": []
    },
    {
      "cell_type": "code",
      "metadata": {
        "id": "1VOlcLQQRCC4"
      },
      "source": [
        "f3 = open('testing.json','r')\n",
        "x = json.load(f3)"
      ],
      "execution_count": null,
      "outputs": []
    },
    {
      "cell_type": "code",
      "metadata": {
        "id": "QSQtX8ACYRAq"
      },
      "source": [
        "main.writing_meaning(data2)"
      ],
      "execution_count": null,
      "outputs": []
    },
    {
      "cell_type": "code",
      "metadata": {
        "id": "rDGs_T6YXH0c"
      },
      "source": [
        "main.solution(data2)"
      ],
      "execution_count": null,
      "outputs": []
    },
    {
      "cell_type": "code",
      "metadata": {
        "id": "e0r5dIJWW7Nf"
      },
      "source": [
        "!zip -r \"$data2.script_dir\" \"$data2.script_dir\" "
      ],
      "execution_count": null,
      "outputs": []
    },
    {
      "cell_type": "code",
      "metadata": {
        "id": "mkg_C9L4KNz-"
      },
      "source": [
        "#conjugate.conjugate()"
      ],
      "execution_count": null,
      "outputs": []
    },
    {
      "cell_type": "code",
      "metadata": {
        "id": "Uh0Ksgl6LNzz"
      },
      "source": [
        "!zip -r \"/content/русский\" \"/content/русский\""
      ],
      "execution_count": null,
      "outputs": []
    },
    {
      "cell_type": "code",
      "metadata": {
        "id": "cnPVZHYALVHe"
      },
      "source": [
        ""
      ],
      "execution_count": null,
      "outputs": []
    },
    {
      "cell_type": "code",
      "metadata": {
        "id": "6pZ1p-ilyUw0"
      },
      "source": [
        ""
      ],
      "execution_count": null,
      "outputs": []
    }
  ]
}