{
  "nbformat": 4,
  "nbformat_minor": 0,
  "metadata": {
    "colab": {
      "name": "Untitled7.ipynb",
      "provenance": [],
      "collapsed_sections": []
    },
    "kernelspec": {
      "name": "python3",
      "display_name": "Python 3"
    }
  },
  "cells": [
    {
      "cell_type": "code",
      "metadata": {
        "id": "bPOdwHjYl7OA"
      },
      "source": [
        "from numpy import random\n",
        "import numpy as np\n",
        "from google.colab import files\n",
        "import os \n",
        "from bs4 import BeautifulSoup\n",
        "import urllib\n",
        "import pandas as pd\n"
      ],
      "execution_count": 32,
      "outputs": []
    },
    {
      "cell_type": "code",
      "metadata": {
        "id": "x5XZ99vzZFge"
      },
      "source": [
        "class word():\n",
        "  def __init__(self, word, meaning):\n",
        "    self.word = word\n",
        "    self.meaning = meaning"
      ],
      "execution_count": 2,
      "outputs": []
    },
    {
      "cell_type": "code",
      "metadata": {
        "id": "x-1NTrVcdLmr"
      },
      "source": [
        "class verb():\n",
        "  def __init__(self,w):\n",
        "    self.infinitive = w.rstrip(\" \")\n",
        "    self.meaning = ''\n",
        "    self.dictionary = []\n",
        "    self.singular1st = ''\n",
        "    self.singular2nd = ''\n",
        "    self.singular3rd = ''\n",
        "    self.plural1st = ''\n",
        "    self.plural2nd = ''\n",
        "    self.plural3rd = ''\n",
        "    self.imperative = ''\n",
        "    self.active = ''\n",
        "    self.passive = ''\n",
        "    self.adverbial = ''\n",
        "    self.error = False "
      ],
      "execution_count": 3,
      "outputs": []
    },
    {
      "cell_type": "code",
      "metadata": {
        "id": "fhM1pALJc-EY"
      },
      "source": [
        "class conjugate():\n",
        "  def prepare(x):\n",
        "    if (len(x) > 0):\n",
        "      t = ''\n",
        "      for i in range (0, len(x)):\n",
        "        if ord(x[i]) in range (1040,1106):\n",
        "          t = t + x[i]\n",
        "      return t\n",
        "    else: return ''\n",
        "  def conjugate(self):\n",
        "    webpage = \"http://en.wiktionary.org/wiki/\"\n",
        "    link = urllib.parse.quote(self.infinitive)\n",
        "    webpage = urllib.parse.urljoin(webpage, link)\n",
        "    try:\n",
        "      urllib.request.urlopen(webpage)\n",
        "    except urllib.error.HTTPError:\n",
        "      self.error = True\n",
        "    if self.error == False:\n",
        "      span = pd.read_html(webpage)\n",
        "      d = []\n",
        "      for x in span:\n",
        "        d.append(x.to_dict())\n",
        "      check = 2\n",
        "      temp = {}\n",
        "      for x in d: \n",
        "        if 'imperfective aspect.1' in x.keys(): \n",
        "          temp = x\n",
        "          check = 0\n",
        "          break\n",
        "        if 'perfective aspect.1' in x.keys():\n",
        "          temp = x\n",
        "          check = 1\n",
        "          break\n",
        "      l = []\n",
        "      if check == 0 :\n",
        "        self.active = conjugate.prepare(temp['imperfective aspect.1'][2])\n",
        "        self.passive = conjugate.prepare(temp['imperfective aspect.1'][3])\n",
        "        self.adverbial = conjugate.prepare(temp['imperfective aspect.1'][4])\n",
        "        self.singular1st = conjugate.prepare(temp['imperfective aspect.1'][6])\n",
        "        self.singular2nd = conjugate.prepare(temp['imperfective aspect.1'][7])\n",
        "        self.singular3rd = conjugate.prepare(temp['imperfective aspect.1'][8])\n",
        "        self.plural1st = conjugate.prepare(temp['imperfective aspect.1'][9])\n",
        "        self.plural2nd = conjugate.prepare(temp['imperfective aspect.1'][10])\n",
        "        self.plural3rd = conjugate.prepare(temp['imperfective aspect.1'][11])\n",
        "        self.imperative = conjugate.prepare(temp['imperfective aspect.1'][13])\n",
        "      elif check == 1:\n",
        "        self.active = conjugate.prepare(temp['perfective aspect.2'][2])\n",
        "        self.passive = conjugate.prepare(temp['perfective aspect.2'][3])\n",
        "        self.adverbial = conjugate.prepare(temp['perfective aspect.2'][4])\n",
        "        self.singular1st = conjugate.prepare(temp['perfective aspect.2'][6])\n",
        "        self.singular2nd = conjugate.prepare(temp['perfective aspect.2'][7])\n",
        "        self.singular3rd = conjugate.prepare(temp['perfective aspect.2'][8])\n",
        "        self.plural1st = conjugate.prepare(temp['perfective aspect.2'][9])\n",
        "        self.plural2nd = conjugate.prepare(temp['perfective aspect.2'][10])\n",
        "        self.plural3rd = conjugate.prepare(temp['perfective aspect.2'][11])\n",
        "        self.imperative = conjugate.prepare(temp['perfective aspect.1'][13])\n",
        "      else: self.error = True\n",
        "\n"
      ],
      "execution_count": 4,
      "outputs": []
    },
    {
      "cell_type": "code",
      "metadata": {
        "id": "okLc4McuA3LO"
      },
      "source": [
        "class Empty(Exception):\n",
        "  def __init__(self, f, message = \"Empty File! Please charge the data\"):\n",
        "    self.f = f\n",
        "    self.message = message\n",
        "    super().__init__(self.message)\n",
        "class NotDone(Exception):\n",
        "  def __init__(self, x, message = \"Please follow the instruction\"):\n",
        "    self.x = x\n",
        "    self.message = message\n",
        "    super().__init__(self.message)\n"
      ],
      "execution_count": 5,
      "outputs": []
    },
    {
      "cell_type": "code",
      "metadata": {
        "id": "PgemlsEv5zwV"
      },
      "source": [
        "class file():\n",
        "  def __init__(self):\n",
        "    self.namefile = ''\n",
        "    self.number = 0\n",
        "    self.separator = ''\n",
        "    self.L = []\n",
        "    self.script_dir = \"\"\n",
        "    self.error = []"
      ],
      "execution_count": 6,
      "outputs": []
    },
    {
      "cell_type": "code",
      "metadata": {
        "id": "xrKZ-JoNYCWv"
      },
      "source": [
        "class INPUT():\n",
        "  def INP(self):\n",
        "    self.separator = input(\"Enter the sepаrator: \")\n",
        "    self.namefile = input(\"Enter the input file: \")\n",
        "    self.number = int(input(\"How many tasks would you want?\"))\n",
        "    # when using the input() method, variable must have been initialized before\n",
        "    d = \"/content/\"\n",
        "    s = self.namefile + \"_tasks\"\n",
        "    !mkdir -p \"$d$s\"\n",
        "    self.script_dir = os.path.join(d,s)\n",
        "    try:\n",
        "      filea = open(self.namefile, 'r')\n",
        "    except FileNotFoundError:\n",
        "      filea = open(self.namefile,'w+') \n",
        "    print(\"PLEASE CHARGE THE DATA, TYPE 'Y' WHEN YOU'VE DONE\")\n",
        "    x = ''\n",
        "    x = input()\n",
        "    if x != 'Y' and x != 'y':\n",
        "      raise NotDone(x)\n",
        "    а = 0\n",
        "    if os.path.getsize(self.namefile) == 0:\n",
        "      raise Empty(self.namefile)\n",
        "    filea.close()\n",
        "  def setup(self):\n",
        "    f = open(self.namefile, 'r')\n",
        "    Lines = f.readlines()\n",
        "    for x in Lines:\n",
        "      n = len(x)\n",
        "      string1 = ''\n",
        "      i = 0\n",
        "      while i < n:\n",
        "        if x[i] != self.separator:\n",
        "          string1 = string1 + x[i]\n",
        "          i = i + 1\n",
        "        else: break\n",
        "      string2 = ''\n",
        "      while i < n:\n",
        "        if x[i] != self.separator:\n",
        "          string2 = string2 + x[i]\n",
        "        i = i + 1\n",
        "      x = word(string1, string2)\n",
        "      self.L.append(x)\n",
        "    f.close()\n",
        "\n"
      ],
      "execution_count": 14,
      "outputs": []
    },
    {
      "cell_type": "code",
      "metadata": {
        "id": "LrcApjm9ev_L"
      },
      "source": [
        "class main():\n",
        "  def reverse_card(self):\n",
        "    l = len(self.L)\n",
        "    reverse = file()\n",
        "    reverse.namefile = self.namefile + \"[:-1]\"\n",
        "    reverse.separator = self.separator\n",
        "    file2 = open(reverse.namefile, 'w')\n",
        "    for x in self.L:\n",
        "      t = x.meaning.rstrip(\"\\n\") + reverse.separator + x.word.rstrip(\"\\n\")\n",
        "      file2.writelines(t)\n",
        "      file2.writelines(\"\\n\")\n",
        "      temp = word(x.meaning,x.word)\n",
        "      reverse.L.append(temp)\n",
        "    file2.close()\n",
        "    return reverse \n",
        "  def writing_meaning(self):\n",
        "    Lines = []\n",
        "    for x in self.L:\n",
        "      Lines.append(x.word)\n",
        "    l = len(self.L)\n",
        "    arr = []\n",
        "    for x in range (0,l):\n",
        "      arr.append(x)\n",
        "    arr = np.array(arr)\n",
        "    need = []\n",
        "    for x in range (0,self.number):\n",
        "      name = str(x) + '.txt'\n",
        "      abs_file_path = os.path.join(self.script_dir,name)\n",
        "      filet = open(abs_file_path, 'w')\n",
        "      temp  = random.permutation(arr)\n",
        "      res = []\n",
        "      count = True \n",
        "      for x in temp: \n",
        "        if (count == True): \n",
        "          filet.write(Lines[x].rstrip(\"\\n\"))\n",
        "          filet.write(\"                            \".rstrip(\"\\n\"))\n",
        "          count = not count\n",
        "        else:\n",
        "          filet.write(Lines[x]+\"                    \")\n",
        "          filet.write(\"\\n\")\n",
        "          filet.write(\"\\n\")\n",
        "          count = not count    \n",
        "      filet.close()\n",
        "  def solution(self):\n",
        "    name = str(self.namefile) + \"_sol.txt\" \n",
        "    path = os.path.join(self.script_dir,name)\n",
        "    f = open(path,'w')\n",
        "    for x in self.L:\n",
        "      f.writelines(x.word.rstrip(\"\\n\") + \": \" + x.meaning)\n",
        "      f.writelines(\"\\n\")\n",
        "    f.close()\n",
        "  def conjugate(self):\n",
        "    y = verb(conjugate.prepare(self))\n",
        "    conjugate.conjugate(y)\n",
        "    if y.error == False:\n",
        "     d = {'1st': [y.singular1st, y.plural1st], '2nd': [y.singular2nd, y.plural2nd], '3rd': [y.singular3rd, y.plural3rd] }\n",
        "     df = pd.DataFrame.from_dict(data=d, orient = 'index', columns = ['singular','plural'])\n",
        "     print(df)\n",
        "    else: print(\"This word is not a Russian verb, or mistyped\")"
      ],
      "execution_count": 56,
      "outputs": []
    },
    {
      "cell_type": "code",
      "metadata": {
        "id": "-VFMEMPxkUxU",
        "outputId": "0a03c1ca-9a69-4956-c048-943f84b71213",
        "colab": {
          "base_uri": "https://localhost:8080/",
          "height": 111
        }
      },
      "source": [
        "d = {'col1': [1, 2], 'col2': [3, 4]}\n",
        "df = pd.DataFrame(data=d)\n",
        "df"
      ],
      "execution_count": 53,
      "outputs": [
        {
          "output_type": "execute_result",
          "data": {
            "text/html": [
              "<div>\n",
              "<style scoped>\n",
              "    .dataframe tbody tr th:only-of-type {\n",
              "        vertical-align: middle;\n",
              "    }\n",
              "\n",
              "    .dataframe tbody tr th {\n",
              "        vertical-align: top;\n",
              "    }\n",
              "\n",
              "    .dataframe thead th {\n",
              "        text-align: right;\n",
              "    }\n",
              "</style>\n",
              "<table border=\"1\" class=\"dataframe\">\n",
              "  <thead>\n",
              "    <tr style=\"text-align: right;\">\n",
              "      <th></th>\n",
              "      <th>col1</th>\n",
              "      <th>col2</th>\n",
              "    </tr>\n",
              "  </thead>\n",
              "  <tbody>\n",
              "    <tr>\n",
              "      <th>0</th>\n",
              "      <td>1</td>\n",
              "      <td>3</td>\n",
              "    </tr>\n",
              "    <tr>\n",
              "      <th>1</th>\n",
              "      <td>2</td>\n",
              "      <td>4</td>\n",
              "    </tr>\n",
              "  </tbody>\n",
              "</table>\n",
              "</div>"
            ],
            "text/plain": [
              "   col1  col2\n",
              "0     1     3\n",
              "1     2     4"
            ]
          },
          "metadata": {
            "tags": []
          },
          "execution_count": 53
        }
      ]
    },
    {
      "cell_type": "code",
      "metadata": {
        "id": "I06RztBkCaZd",
        "outputId": "c953db1f-1b8d-4a27-89c5-00f5e4b1bbfa",
        "colab": {
          "base_uri": "https://localhost:8080/",
          "height": 527
        }
      },
      "source": [
        "data = file()\n",
        "INPUT.INP(data)\n",
        "INPUT.setup(data)"
      ],
      "execution_count": 54,
      "outputs": [
        {
          "output_type": "error",
          "ename": "KeyboardInterrupt",
          "evalue": "ignored",
          "traceback": [
            "\u001b[0;31m---------------------------------------------------------------------------\u001b[0m",
            "\u001b[0;31mKeyboardInterrupt\u001b[0m                         Traceback (most recent call last)",
            "\u001b[0;32m/usr/local/lib/python3.6/dist-packages/ipykernel/kernelbase.py\u001b[0m in \u001b[0;36m_input_request\u001b[0;34m(self, prompt, ident, parent, password)\u001b[0m\n\u001b[1;32m    728\u001b[0m             \u001b[0;32mtry\u001b[0m\u001b[0;34m:\u001b[0m\u001b[0;34m\u001b[0m\u001b[0;34m\u001b[0m\u001b[0m\n\u001b[0;32m--> 729\u001b[0;31m                 \u001b[0mident\u001b[0m\u001b[0;34m,\u001b[0m \u001b[0mreply\u001b[0m \u001b[0;34m=\u001b[0m \u001b[0mself\u001b[0m\u001b[0;34m.\u001b[0m\u001b[0msession\u001b[0m\u001b[0;34m.\u001b[0m\u001b[0mrecv\u001b[0m\u001b[0;34m(\u001b[0m\u001b[0mself\u001b[0m\u001b[0;34m.\u001b[0m\u001b[0mstdin_socket\u001b[0m\u001b[0;34m,\u001b[0m \u001b[0;36m0\u001b[0m\u001b[0;34m)\u001b[0m\u001b[0;34m\u001b[0m\u001b[0;34m\u001b[0m\u001b[0m\n\u001b[0m\u001b[1;32m    730\u001b[0m             \u001b[0;32mexcept\u001b[0m \u001b[0mException\u001b[0m\u001b[0;34m:\u001b[0m\u001b[0;34m\u001b[0m\u001b[0;34m\u001b[0m\u001b[0m\n",
            "\u001b[0;32m/usr/local/lib/python3.6/dist-packages/jupyter_client/session.py\u001b[0m in \u001b[0;36mrecv\u001b[0;34m(self, socket, mode, content, copy)\u001b[0m\n\u001b[1;32m    802\u001b[0m         \u001b[0;32mtry\u001b[0m\u001b[0;34m:\u001b[0m\u001b[0;34m\u001b[0m\u001b[0;34m\u001b[0m\u001b[0m\n\u001b[0;32m--> 803\u001b[0;31m             \u001b[0mmsg_list\u001b[0m \u001b[0;34m=\u001b[0m \u001b[0msocket\u001b[0m\u001b[0;34m.\u001b[0m\u001b[0mrecv_multipart\u001b[0m\u001b[0;34m(\u001b[0m\u001b[0mmode\u001b[0m\u001b[0;34m,\u001b[0m \u001b[0mcopy\u001b[0m\u001b[0;34m=\u001b[0m\u001b[0mcopy\u001b[0m\u001b[0;34m)\u001b[0m\u001b[0;34m\u001b[0m\u001b[0;34m\u001b[0m\u001b[0m\n\u001b[0m\u001b[1;32m    804\u001b[0m         \u001b[0;32mexcept\u001b[0m \u001b[0mzmq\u001b[0m\u001b[0;34m.\u001b[0m\u001b[0mZMQError\u001b[0m \u001b[0;32mas\u001b[0m \u001b[0me\u001b[0m\u001b[0;34m:\u001b[0m\u001b[0;34m\u001b[0m\u001b[0;34m\u001b[0m\u001b[0m\n",
            "\u001b[0;32m/usr/local/lib/python3.6/dist-packages/zmq/sugar/socket.py\u001b[0m in \u001b[0;36mrecv_multipart\u001b[0;34m(self, flags, copy, track)\u001b[0m\n\u001b[1;32m    490\u001b[0m         \"\"\"\n\u001b[0;32m--> 491\u001b[0;31m         \u001b[0mparts\u001b[0m \u001b[0;34m=\u001b[0m \u001b[0;34m[\u001b[0m\u001b[0mself\u001b[0m\u001b[0;34m.\u001b[0m\u001b[0mrecv\u001b[0m\u001b[0;34m(\u001b[0m\u001b[0mflags\u001b[0m\u001b[0;34m,\u001b[0m \u001b[0mcopy\u001b[0m\u001b[0;34m=\u001b[0m\u001b[0mcopy\u001b[0m\u001b[0;34m,\u001b[0m \u001b[0mtrack\u001b[0m\u001b[0;34m=\u001b[0m\u001b[0mtrack\u001b[0m\u001b[0;34m)\u001b[0m\u001b[0;34m]\u001b[0m\u001b[0;34m\u001b[0m\u001b[0;34m\u001b[0m\u001b[0m\n\u001b[0m\u001b[1;32m    492\u001b[0m         \u001b[0;31m# have first part already, only loop while more to receive\u001b[0m\u001b[0;34m\u001b[0m\u001b[0;34m\u001b[0m\u001b[0;34m\u001b[0m\u001b[0m\n",
            "\u001b[0;32mzmq/backend/cython/socket.pyx\u001b[0m in \u001b[0;36mzmq.backend.cython.socket.Socket.recv\u001b[0;34m()\u001b[0m\n",
            "\u001b[0;32mzmq/backend/cython/socket.pyx\u001b[0m in \u001b[0;36mzmq.backend.cython.socket.Socket.recv\u001b[0;34m()\u001b[0m\n",
            "\u001b[0;32mzmq/backend/cython/socket.pyx\u001b[0m in \u001b[0;36mzmq.backend.cython.socket._recv_copy\u001b[0;34m()\u001b[0m\n",
            "\u001b[0;32m/usr/local/lib/python3.6/dist-packages/zmq/backend/cython/checkrc.pxd\u001b[0m in \u001b[0;36mzmq.backend.cython.checkrc._check_rc\u001b[0;34m()\u001b[0m\n",
            "\u001b[0;31mKeyboardInterrupt\u001b[0m: ",
            "\nDuring handling of the above exception, another exception occurred:\n",
            "\u001b[0;31mKeyboardInterrupt\u001b[0m                         Traceback (most recent call last)",
            "\u001b[0;32m<ipython-input-54-ddd1eb90743b>\u001b[0m in \u001b[0;36m<module>\u001b[0;34m()\u001b[0m\n\u001b[1;32m      1\u001b[0m \u001b[0mdata\u001b[0m \u001b[0;34m=\u001b[0m \u001b[0mfile\u001b[0m\u001b[0;34m(\u001b[0m\u001b[0;34m)\u001b[0m\u001b[0;34m\u001b[0m\u001b[0;34m\u001b[0m\u001b[0m\n\u001b[0;32m----> 2\u001b[0;31m \u001b[0mINPUT\u001b[0m\u001b[0;34m.\u001b[0m\u001b[0mINP\u001b[0m\u001b[0;34m(\u001b[0m\u001b[0mdata\u001b[0m\u001b[0;34m)\u001b[0m\u001b[0;34m\u001b[0m\u001b[0;34m\u001b[0m\u001b[0m\n\u001b[0m\u001b[1;32m      3\u001b[0m \u001b[0mINPUT\u001b[0m\u001b[0;34m.\u001b[0m\u001b[0msetup\u001b[0m\u001b[0;34m(\u001b[0m\u001b[0mdata\u001b[0m\u001b[0;34m)\u001b[0m\u001b[0;34m\u001b[0m\u001b[0;34m\u001b[0m\u001b[0m\n",
            "\u001b[0;32m<ipython-input-14-8bd4fc41fb9b>\u001b[0m in \u001b[0;36mINP\u001b[0;34m(self)\u001b[0m\n\u001b[1;32m      1\u001b[0m \u001b[0;32mclass\u001b[0m \u001b[0mINPUT\u001b[0m\u001b[0;34m(\u001b[0m\u001b[0;34m)\u001b[0m\u001b[0;34m:\u001b[0m\u001b[0;34m\u001b[0m\u001b[0;34m\u001b[0m\u001b[0m\n\u001b[1;32m      2\u001b[0m   \u001b[0;32mdef\u001b[0m \u001b[0mINP\u001b[0m\u001b[0;34m(\u001b[0m\u001b[0mself\u001b[0m\u001b[0;34m)\u001b[0m\u001b[0;34m:\u001b[0m\u001b[0;34m\u001b[0m\u001b[0;34m\u001b[0m\u001b[0m\n\u001b[0;32m----> 3\u001b[0;31m     \u001b[0mself\u001b[0m\u001b[0;34m.\u001b[0m\u001b[0mseparator\u001b[0m \u001b[0;34m=\u001b[0m \u001b[0minput\u001b[0m\u001b[0;34m(\u001b[0m\u001b[0;34m\"Enter the sepаrator: \"\u001b[0m\u001b[0;34m)\u001b[0m\u001b[0;34m\u001b[0m\u001b[0;34m\u001b[0m\u001b[0m\n\u001b[0m\u001b[1;32m      4\u001b[0m     \u001b[0mself\u001b[0m\u001b[0;34m.\u001b[0m\u001b[0mnamefile\u001b[0m \u001b[0;34m=\u001b[0m \u001b[0minput\u001b[0m\u001b[0;34m(\u001b[0m\u001b[0;34m\"Enter the input file: \"\u001b[0m\u001b[0;34m)\u001b[0m\u001b[0;34m\u001b[0m\u001b[0;34m\u001b[0m\u001b[0m\n\u001b[1;32m      5\u001b[0m     \u001b[0mself\u001b[0m\u001b[0;34m.\u001b[0m\u001b[0mnumber\u001b[0m \u001b[0;34m=\u001b[0m \u001b[0mint\u001b[0m\u001b[0;34m(\u001b[0m\u001b[0minput\u001b[0m\u001b[0;34m(\u001b[0m\u001b[0;34m\"How many tasks would you want?\"\u001b[0m\u001b[0;34m)\u001b[0m\u001b[0;34m)\u001b[0m\u001b[0;34m\u001b[0m\u001b[0;34m\u001b[0m\u001b[0m\n",
            "\u001b[0;32m/usr/local/lib/python3.6/dist-packages/ipykernel/kernelbase.py\u001b[0m in \u001b[0;36mraw_input\u001b[0;34m(self, prompt)\u001b[0m\n\u001b[1;32m    702\u001b[0m             \u001b[0mself\u001b[0m\u001b[0;34m.\u001b[0m\u001b[0m_parent_ident\u001b[0m\u001b[0;34m,\u001b[0m\u001b[0;34m\u001b[0m\u001b[0;34m\u001b[0m\u001b[0m\n\u001b[1;32m    703\u001b[0m             \u001b[0mself\u001b[0m\u001b[0;34m.\u001b[0m\u001b[0m_parent_header\u001b[0m\u001b[0;34m,\u001b[0m\u001b[0;34m\u001b[0m\u001b[0;34m\u001b[0m\u001b[0m\n\u001b[0;32m--> 704\u001b[0;31m             \u001b[0mpassword\u001b[0m\u001b[0;34m=\u001b[0m\u001b[0;32mFalse\u001b[0m\u001b[0;34m,\u001b[0m\u001b[0;34m\u001b[0m\u001b[0;34m\u001b[0m\u001b[0m\n\u001b[0m\u001b[1;32m    705\u001b[0m         )\n\u001b[1;32m    706\u001b[0m \u001b[0;34m\u001b[0m\u001b[0m\n",
            "\u001b[0;32m/usr/local/lib/python3.6/dist-packages/ipykernel/kernelbase.py\u001b[0m in \u001b[0;36m_input_request\u001b[0;34m(self, prompt, ident, parent, password)\u001b[0m\n\u001b[1;32m    732\u001b[0m             \u001b[0;32mexcept\u001b[0m \u001b[0mKeyboardInterrupt\u001b[0m\u001b[0;34m:\u001b[0m\u001b[0;34m\u001b[0m\u001b[0;34m\u001b[0m\u001b[0m\n\u001b[1;32m    733\u001b[0m                 \u001b[0;31m# re-raise KeyboardInterrupt, to truncate traceback\u001b[0m\u001b[0;34m\u001b[0m\u001b[0;34m\u001b[0m\u001b[0;34m\u001b[0m\u001b[0m\n\u001b[0;32m--> 734\u001b[0;31m                 \u001b[0;32mraise\u001b[0m \u001b[0mKeyboardInterrupt\u001b[0m\u001b[0;34m\u001b[0m\u001b[0;34m\u001b[0m\u001b[0m\n\u001b[0m\u001b[1;32m    735\u001b[0m             \u001b[0;32melse\u001b[0m\u001b[0;34m:\u001b[0m\u001b[0;34m\u001b[0m\u001b[0;34m\u001b[0m\u001b[0m\n\u001b[1;32m    736\u001b[0m                 \u001b[0;32mbreak\u001b[0m\u001b[0;34m\u001b[0m\u001b[0;34m\u001b[0m\u001b[0m\n",
            "\u001b[0;31mKeyboardInterrupt\u001b[0m: "
          ]
        }
      ]
    },
    {
      "cell_type": "code",
      "metadata": {
        "id": "-MNpEGyv8IgO"
      },
      "source": [
        "dat = main.reverse_card(data)"
      ],
      "execution_count": null,
      "outputs": []
    },
    {
      "cell_type": "code",
      "metadata": {
        "id": "RkqjrqZ5dfh3",
        "outputId": "1608d257-f09a-46f4-f166-89d7011ed057",
        "colab": {
          "base_uri": "https://localhost:8080/"
        }
      },
      "source": [
        "x = ''\n",
        "x = input(\"Type the verb: \")\n",
        "main.conjugate(x)"
      ],
      "execution_count": 57,
      "outputs": [
        {
          "output_type": "stream",
          "text": [
            "Type the verb: спать\n",
            "    singular plural\n",
            "1st     сплю   спим\n",
            "2nd    спишь  спите\n",
            "3rd     спит   спят\n"
          ],
          "name": "stdout"
        }
      ]
    },
    {
      "cell_type": "code",
      "metadata": {
        "id": "YtTOUcJ2ZDSh"
      },
      "source": [
        " fx = open(dat.namefile + '1','w')\n",
        "for x in dat.L:\n",
        "  y = verb(conjugate.prepare(x.word))\n",
        "  y.meaning = x.meaning\n",
        "  conjugate.conjugate(y)\n",
        "  if y.error == False:\n",
        "    fx.write(y.infinitive.rstrip(\"\\n\"))\n",
        "    fx.write(\"  \".rstrip(\"\\n\"))\n",
        "    fx.write(y.singular1st.rstrip(\"\\n\"))\n",
        "    fx.write(\"  \".rstrip(\"\\n\"))\n",
        "    fx.write(y.singular2nd.rstrip(\"\\n\"))\n",
        "    fx.write(\"  \".rstrip(\"\\n\"))\n",
        "    fx.write(y.singular3rd.rstrip(\"\\n\"))\n",
        "    fx.write(\"  \".rstrip(\"\\n\"))\n",
        "    fx.write(y.plural1st.rstrip(\"\\n\"))\n",
        "    fx.write(\"  \".rstrip(\"\\n\"))\n",
        "    fx.write(y.plural2nd.rstrip(\"\\n\"))\n",
        "    fx.write(\"  \".rstrip(\"\\n\"))\n",
        "    fx.write(y.plural3rd.rstrip(\"\\n\"))\n",
        "    fx.write(\"  \".rstrip(\"\\n\"))\n",
        "    fx.writelines(\"\\n\")\n",
        "  else: dat.error.append(y)\n",
        "for x in dat.error:\n",
        "  print(x.infinitive)\n",
        "fx.close()\n",
        "  \n"
      ],
      "execution_count": null,
      "outputs": []
    },
    {
      "cell_type": "code",
      "metadata": {
        "id": "QSQtX8ACYRAq"
      },
      "source": [
        "main.writing_meaning(data)"
      ],
      "execution_count": null,
      "outputs": []
    },
    {
      "cell_type": "code",
      "metadata": {
        "id": "rDGs_T6YXH0c"
      },
      "source": [
        "main.solution(data)"
      ],
      "execution_count": null,
      "outputs": []
    },
    {
      "cell_type": "code",
      "metadata": {
        "id": "e0r5dIJWW7Nf"
      },
      "source": [
        "!zip -r \"$data.script_dir\" \"$data.script_dir\" "
      ],
      "execution_count": null,
      "outputs": []
    },
    {
      "cell_type": "code",
      "metadata": {
        "id": "mkg_C9L4KNz-"
      },
      "source": [
        "#conjugate.conjugate()"
      ],
      "execution_count": null,
      "outputs": []
    }
  ]
}