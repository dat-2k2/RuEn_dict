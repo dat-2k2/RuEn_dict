{
  "nbformat": 4,
  "nbformat_minor": 0,
  "metadata": {
    "colab": {
      "name": "Untitled7.ipynb",
      "provenance": [],
      "collapsed_sections": []
    },
    "kernelspec": {
      "name": "python3",
      "display_name": "Python 3"
    }
  },
  "cells": [
    {
      "cell_type": "code",
      "metadata": {
        "id": "bPOdwHjYl7OA"
      },
      "source": [
        "\n",
        "from numpy import random\n",
        "import numpy as np\n",
        "from google.colab import files\n",
        "import os "
      ],
      "execution_count": 217,
      "outputs": []
    },
    {
      "cell_type": "code",
      "metadata": {
        "id": "abzqN1Ty3YnZ"
      },
      "source": [
        "#please upload your card files before running below commands"
      ],
      "execution_count": 218,
      "outputs": []
    },
    {
      "cell_type": "code",
      "metadata": {
        "id": "XenMG6X_Hv09"
      },
      "source": [
        "separator = \";\""
      ],
      "execution_count": 219,
      "outputs": []
    },
    {
      "cell_type": "code",
      "metadata": {
        "id": "xrKZ-JoNYCWv"
      },
      "source": [
        "namefile = \"testing.txt\"\n",
        "filea = open(namefile,'r')\n",
        "filea.close()"
      ],
      "execution_count": 220,
      "outputs": []
    },
    {
      "cell_type": "code",
      "metadata": {
        "id": "5AmrpdiB4F54",
        "outputId": "b930b960-5490-40d8-dcdf-b7ec16d4d7ad",
        "colab": {
          "base_uri": "https://localhost:8080/"
        }
      },
      "source": [
        "!mkdir /content/writing_meaning"
      ],
      "execution_count": 221,
      "outputs": [
        {
          "output_type": "stream",
          "text": [
            "mkdir: cannot create directory ‘/content/writing_meaning’: File exists\n"
          ],
          "name": "stdout"
        }
      ]
    },
    {
      "cell_type": "code",
      "metadata": {
        "id": "x5XZ99vzZFge"
      },
      "source": [
        "class word():\n",
        "  def __init__(self, word, meaning):\n",
        "    self.word = word\n",
        "    self.meaning = meaning"
      ],
      "execution_count": 222,
      "outputs": []
    },
    {
      "cell_type": "code",
      "metadata": {
        "id": "iEmPokQ8Z99_"
      },
      "source": [
        "def setup(name_file):\n",
        "  f = open(name_file, 'r')\n",
        "  Lines = f.readlines()\n",
        "  res = []\n",
        "  for x in Lines:\n",
        "    n = len(x)\n",
        "    string1 = ''\n",
        "    i = 0\n",
        "    while i < n:\n",
        "      if x[i] != separator:\n",
        "        string1 = string1 + x[i]\n",
        "        i = i + 1\n",
        "      else: break\n",
        "    string2 = ''\n",
        "    while i < n:\n",
        "      if x[i] != separator:\n",
        "        string2 = string2 + x[i]\n",
        "      i = i + 1\n",
        "    x = word(string1, string2)\n",
        "    res.append(x)\n",
        "  f.close()\n",
        "  return res\n",
        "  \n",
        "\n",
        "  "
      ],
      "execution_count": 223,
      "outputs": []
    },
    {
      "cell_type": "code",
      "metadata": {
        "id": "qG9lRizeZ7aL"
      },
      "source": [
        ""
      ],
      "execution_count": 223,
      "outputs": []
    },
    {
      "cell_type": "code",
      "metadata": {
        "id": "hOn4lLaZMbiR"
      },
      "source": [
        "def reverse_card(name_card):\n",
        "  newLines = setup(name_card)\n",
        "  l = len(newLines)\n",
        "  file2 = open(name_card + \"[:-1]\", 'w')\n",
        "  for x in newLines:\n",
        "    t = x.meaning.rstrip(\"\\n\") + '; ' + x.word\n",
        "    file2.writelines(t)\n",
        "    file2.writelines(\"\\n\")\n",
        "  file2.close()"
      ],
      "execution_count": 224,
      "outputs": []
    },
    {
      "cell_type": "code",
      "metadata": {
        "id": "1f2PJUS8oY_n"
      },
      "source": [
        "#input: name of file (string) and number of tasks (integer larger than 0)\n",
        "def writing_meaning(name_file,numberoftasks):\n",
        "  L = setup(name_file)\n",
        "  Lines = []\n",
        "  for x in L:\n",
        "    Lines.append(x.word)\n",
        "  l = len(Lines)\n",
        "  arr = []\n",
        "  for x in range (0,l):\n",
        "    arr.append(x)\n",
        "  arr = np.array(arr)\n",
        "  need = []\n",
        "  script_dir = \"/content/writing_meaning/\"\n",
        "  for x in range (0,numberoftasks):\n",
        "    name = str(x) + '.txt'\n",
        "    abs_file_path = script_dir + name\n",
        "    filet = open(abs_file_path, 'w')\n",
        "    temp  = random.permutation(arr)\n",
        "    res = []\n",
        "    count = True \n",
        "    for x in temp: \n",
        "      if (count == True): \n",
        "        filet.write(Lines[x].rstrip(\"\\n\"))\n",
        "        filet.write(\"                            \".rstrip(\"\\n\"))\n",
        "        count = not count\n",
        "      else:\n",
        "        filet.write(Lines[x]+\"                    \")\n",
        "        filet.write(\"\\n\")\n",
        "        filet.write(\"\\n\")\n",
        "        count = not count    \n",
        "      \n",
        "    filet.close()"
      ],
      "execution_count": 225,
      "outputs": []
    },
    {
      "cell_type": "code",
      "metadata": {
        "id": "QSQtX8ACYRAq"
      },
      "source": [
        "writing_meaning(namefile,7)"
      ],
      "execution_count": 226,
      "outputs": []
    },
    {
      "cell_type": "code",
      "metadata": {
        "id": "e0r5dIJWW7Nf",
        "outputId": "a0bb5b16-15bd-4d92-dc9a-f433f826ee83",
        "colab": {
          "base_uri": "https://localhost:8080/"
        }
      },
      "source": [
        "!zip -r \"/content/writing_meaning\" \"/content/writing_meaning\""
      ],
      "execution_count": 227,
      "outputs": [
        {
          "output_type": "stream",
          "text": [
            "updating: content/writing_meaning/ (stored 0%)\n",
            "updating: content/writing_meaning/1.txt (deflated 77%)\n",
            "updating: content/writing_meaning/0.txt (deflated 78%)\n",
            "updating: content/writing_meaning/5.txt (deflated 78%)\n",
            "updating: content/writing_meaning/3.txt (deflated 79%)\n",
            "updating: content/writing_meaning/2.txt (deflated 78%)\n",
            "updating: content/writing_meaning/6.txt (deflated 78%)\n",
            "updating: content/writing_meaning/4.txt (deflated 79%)\n"
          ],
          "name": "stdout"
        }
      ]
    },
    {
      "cell_type": "code",
      "metadata": {
        "id": "9nMNQssbhzs5"
      },
      "source": [
        ""
      ],
      "execution_count": 227,
      "outputs": []
    }
  ]
}