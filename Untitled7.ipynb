{
  "nbformat": 4,
  "nbformat_minor": 0,
  "metadata": {
    "colab": {
      "name": "Untitled7.ipynb",
      "provenance": [],
      "collapsed_sections": []
    },
    "kernelspec": {
      "name": "python3",
      "display_name": "Python 3"
    }
  },
  "cells": [
    {
      "cell_type": "code",
      "metadata": {
        "id": "bPOdwHjYl7OA"
      },
      "source": [
        "\n",
        "from numpy import random\n",
        "import numpy as np\n",
        "from google.colab import files\n",
        "import os "
      ],
      "execution_count": 80,
      "outputs": []
    },
    {
      "cell_type": "code",
      "metadata": {
        "id": "abzqN1Ty3YnZ"
      },
      "source": [
        "#please enter your file name before running below commands"
      ],
      "execution_count": 81,
      "outputs": []
    },
    {
      "cell_type": "code",
      "metadata": {
        "id": "xrKZ-JoNYCWv",
        "outputId": "241ea4a6-340b-4824-99a0-c53dcb00d6af",
        "colab": {
          "base_uri": "https://localhost:8080/"
        }
      },
      "source": [
        "check = input(\"Remake task? (Y/N): \")\n",
        "seperator = input(\"Enter the seperator: \")\n",
        "if check == \"N\" :\n",
        "  namefile = input(\"Enter the input file: \")\n",
        "  try:\n",
        "    filea = open(namefile, 'r')\n",
        "  except FileNotFoundError:\n",
        "    filea = open(namefile,'w+')\n",
        "  filea.close()"
      ],
      "execution_count": 83,
      "outputs": [
        {
          "output_type": "stream",
          "text": [
            "Remake task? (Y/N): N\n",
            "Enter the seperator: ;\n",
            "Enter the input file: оващи\n"
          ],
          "name": "stdout"
        }
      ]
    },
    {
      "cell_type": "code",
      "metadata": {
        "id": "5AmrpdiB4F54",
        "outputId": "cb201a26-3151-400b-859b-607d18385a45",
        "colab": {
          "base_uri": "https://localhost:8080/",
          "height": 129
        }
      },
      "source": [
        "\\!mkdir /content/writing_meaning"
      ],
      "execution_count": 84,
      "outputs": [
        {
          "output_type": "error",
          "ename": "SyntaxError",
          "evalue": "ignored",
          "traceback": [
            "\u001b[0;36m  File \u001b[0;32m\"<ipython-input-84-284d9462b79d>\"\u001b[0;36m, line \u001b[0;32m1\u001b[0m\n\u001b[0;31m    \\!mkdir /content/writing_meaning\u001b[0m\n\u001b[0m                                    ^\u001b[0m\n\u001b[0;31mSyntaxError\u001b[0m\u001b[0;31m:\u001b[0m unexpected character after line continuation character\n"
          ]
        }
      ]
    },
    {
      "cell_type": "code",
      "metadata": {
        "id": "x5XZ99vzZFge"
      },
      "source": [
        "class word():\n",
        "  def __init__(self, word, meaning):\n",
        "    self.word = word\n",
        "    self.meaning = meaning"
      ],
      "execution_count": 85,
      "outputs": []
    },
    {
      "cell_type": "code",
      "metadata": {
        "id": "iEmPokQ8Z99_"
      },
      "source": [
        "def setup(name_file):\n",
        "  f = open(name_file, 'r')\n",
        "  Lines = f.readlines()\n",
        "  res = []\n",
        "  for x in Lines:\n",
        "    n = len(x)\n",
        "    string1 = ''\n",
        "    i = 0\n",
        "    while i < n:\n",
        "      if x[i] != separator:\n",
        "        string1 = string1 + x[i]\n",
        "        i = i + 1\n",
        "      else: break\n",
        "    string2 = ''\n",
        "    while i < n:\n",
        "      if x[i] != separator:\n",
        "        string2 = string2 + x[i]\n",
        "      i = i + 1\n",
        "    x = word(string1, string2)\n",
        "    res.append(x)\n",
        "  f.close()\n",
        "  return res\n",
        "  \n",
        "\n",
        "  "
      ],
      "execution_count": 86,
      "outputs": []
    },
    {
      "cell_type": "code",
      "metadata": {
        "id": "hOn4lLaZMbiR"
      },
      "source": [
        "def reverse_card(name_card):\n",
        "  newLines = setup(name_card)\n",
        "  l = len(newLines)\n",
        "  file2 = open(name_card + \"[:-1]\", 'w')\n",
        "  for x in newLines:\n",
        "    t = x.meaning.rstrip(\"\\n\") + '; ' + x.word\n",
        "    file2.writelines(t)\n",
        "    file2.writelines(\"\\n\")\n",
        "  file2.close()"
      ],
      "execution_count": 87,
      "outputs": []
    },
    {
      "cell_type": "code",
      "metadata": {
        "id": "1f2PJUS8oY_n"
      },
      "source": [
        "#input: name of file (string) and number of tasks (integer larger than 0)\n",
        "class task():\n",
        "  def writing_meaning(name_file,numberoftasks):\n",
        "    Lines = []\n",
        "    L = setup(name_file)\n",
        "    for x in L:\n",
        "      Lines.append(x.word)\n",
        "    l = len(Lines)\n",
        "    arr = []\n",
        "    for x in range (0,l):\n",
        "      arr.append(x)\n",
        "    arr = np.array(arr)\n",
        "    need = []\n",
        "    script_dir = \"/content/writing_meaning/\"\n",
        "    for x in range (0,numberoftasks):\n",
        "      name = str(x) + '.txt'\n",
        "      abs_file_path = script_dir + name\n",
        "      filet = open(abs_file_path, 'w')\n",
        "      temp  = random.permutation(arr)\n",
        "      res = []\n",
        "      count = True \n",
        "      for x in temp: \n",
        "        if (count == True): \n",
        "          filet.write(Lines[x].rstrip(\"\\n\"))\n",
        "          filet.write(\"                            \".rstrip(\"\\n\"))\n",
        "          count = not count\n",
        "        else:\n",
        "          filet.write(Lines[x]+\"                    \")\n",
        "          filet.write(\"\\n\")\n",
        "          filet.write(\"\\n\")\n",
        "          count = not count    \n",
        "        \n",
        "      filet.close()\n",
        "  def solution(name_file):\n",
        "    name = name_file + \"_sol_.txt\" \n",
        "    path = os.path.join(\"writing_meaning/\",name)\n",
        "    f = open(path,'w')\n",
        "    L = setup(name_file)\n",
        "    for x in L:\n",
        "      f.writelines(x.word.rstrip(\"\\n\") + \": \" + x.meaning)\n",
        "      f.writelines(\"\\n\")\n",
        "    f.close()"
      ],
      "execution_count": 88,
      "outputs": []
    },
    {
      "cell_type": "code",
      "metadata": {
        "id": "QSQtX8ACYRAq"
      },
      "source": [
        "task.writing_meaning(namefile,7)\n"
      ],
      "execution_count": 89,
      "outputs": []
    },
    {
      "cell_type": "code",
      "metadata": {
        "id": "SS6KurEY9cQK"
      },
      "source": [
        "task.solution(namefile)"
      ],
      "execution_count": 90,
      "outputs": []
    },
    {
      "cell_type": "code",
      "metadata": {
        "id": "e0r5dIJWW7Nf",
        "outputId": "2fc7de22-1866-4e9b-c8be-0302e9460f81",
        "colab": {
          "base_uri": "https://localhost:8080/"
        }
      },
      "source": [
        "!zip -r \"/content/writing_meaning\" \"/content/writing_meaning\""
      ],
      "execution_count": 91,
      "outputs": [
        {
          "output_type": "stream",
          "text": [
            "updating: content/writing_meaning/ (stored 0%)\n",
            "updating: content/writing_meaning/1.txt (deflated 78%)\n",
            "updating: content/writing_meaning/6.txt (deflated 77%)\n",
            "updating: content/writing_meaning/3.txt (deflated 77%)\n",
            "updating: content/writing_meaning/4.txt (deflated 77%)\n",
            "updating: content/writing_meaning/5.txt (deflated 77%)\n",
            "updating: content/writing_meaning/0.txt (deflated 76%)\n",
            "updating: content/writing_meaning/2.txt (deflated 77%)\n",
            "updating: content/writing_meaning/.ipynb_checkpoints/ (stored 0%)\n",
            "updating: content/writing_meaning/оващи_sol_.txt (deflated 38%)\n"
          ],
          "name": "stdout"
        }
      ]
    },
    {
      "cell_type": "code",
      "metadata": {
        "id": "9nMNQssbhzs5"
      },
      "source": [
        ""
      ],
      "execution_count": 91,
      "outputs": []
    }
  ]
}