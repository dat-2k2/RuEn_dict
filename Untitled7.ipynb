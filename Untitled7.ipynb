{
  "nbformat": 4,
  "nbformat_minor": 0,
  "metadata": {
    "colab": {
      "name": "Untitled7.ipynb",
      "provenance": [],
      "collapsed_sections": []
    },
    "kernelspec": {
      "name": "python3",
      "display_name": "Python 3"
    },
    "accelerator": "GPU"
  },
  "cells": [
    {
      "cell_type": "code",
      "metadata": {
        "id": "bPOdwHjYl7OA"
      },
      "source": [
        "\n",
        "from numpy import random\n",
        "import numpy as np\n",
        "from google.colab import files\n",
        "import os "
      ],
      "execution_count": null,
      "outputs": []
    },
    {
      "cell_type": "code",
      "metadata": {
        "id": "XenMG6X_Hv09"
      },
      "source": [
        "name1 = \"card_data.txt\"\n",
        "separator = ','"
      ],
      "execution_count": null,
      "outputs": []
    },
    {
      "cell_type": "code",
      "metadata": {
        "id": "0xKv6UULK9Od"
      },
      "source": [
        "def reverse(x):\n",
        "  n = len(x)\n",
        "  string1 = ''\n",
        "  i = 0\n",
        "  while i < n:\n",
        "    if x[i] != separator:\n",
        "      string1 = string1 + x[i]\n",
        "      i = i + 1\n",
        "    else: break\n",
        "  string2 = ''\n",
        "  while i < n:\n",
        "    if x[i] != ',':\n",
        "      string2  = string2 + x[i]\n",
        "    i = i + 1\n",
        "  return (string2 + ',' + string1)\n",
        "\n",
        "\n",
        " \n",
        " "
      ],
      "execution_count": null,
      "outputs": []
    },
    {
      "cell_type": "code",
      "metadata": {
        "id": "hOn4lLaZMbiR"
      },
      "source": [
        "def reverse_card(name_card):\n",
        "  file1 = open(name_card,'r')\n",
        "  newLines = file1.readlines()\n",
        "  l = len(newLines)\n",
        "  for x in newLines:\n",
        "    x = reverse(x)\n",
        "  file2 = open(name1 + \"[:-1]\", 'w')\n",
        "  for x in newLines:\n",
        "    file2.writelines(x)\n",
        "  file2.close()"
      ],
      "execution_count": 1,
      "outputs": []
    },
    {
      "cell_type": "code",
      "metadata": {
        "id": "1f2PJUS8oY_n"
      },
      "source": [
        "file1 = open(\"rus.txt\",'r')\n",
        "Lines = file1.readlines()\n",
        "l = len(Lines)\n",
        "arr = []\n",
        "for x in range (0,l):\n",
        "  arr.append(x)\n",
        "arr = np.array(arr)\n",
        "need = []\n",
        "script_dir = \"/content/return1/\"\n",
        "for x in range (0,10):\n",
        "  name = str(x) + '.txt'\n",
        "  abs_file_path = script_dir + name\n",
        "  filet = open(abs_file_path, 'w')\n",
        "  temp  = random.permutation(arr)\n",
        "  res = []\n",
        "  count = True \n",
        "  for x in temp: \n",
        "    if (count == True): \n",
        "      filet.write(Lines[x].rstrip(\"\\n\"))\n",
        "      filet.write(\"                   \".rstrip(\"\\n\"))\n",
        "      count = not count\n",
        "    else:\n",
        "      filet.write(Lines[x]+\"                    \")\n",
        "      filet.write(\"\\n\")\n",
        "      count = not count    \n",
        "  filet.close()"
      ],
      "execution_count": null,
      "outputs": []
    },
    {
      "cell_type": "code",
      "metadata": {
        "id": "UhMx0PupuaLH",
        "outputId": "23beae7a-9599-40f2-b519-82b99fc9dd09",
        "colab": {
          "base_uri": "https://localhost:8080/"
        }
      },
      "source": [
        "!zip -r \"/content/return1\" \"/content/return1\"\n"
      ],
      "execution_count": null,
      "outputs": [
        {
          "output_type": "stream",
          "text": [
            "updating: content/return1/ (stored 0%)\n",
            "updating: content/return1/9.txt (deflated 77%)\n",
            "updating: content/return1/5.txt (deflated 78%)\n",
            "updating: content/return1/0.txt (deflated 78%)\n",
            "updating: content/return1/4.txt (deflated 78%)\n",
            "updating: content/return1/6.txt (deflated 77%)\n",
            "updating: content/return1/2.txt (deflated 78%)\n",
            "updating: content/return1/1.txt (deflated 77%)\n",
            "updating: content/return1/3.txt (deflated 77%)\n",
            "updating: content/return1/7.txt (deflated 78%)\n",
            "updating: content/return1/8.txt (deflated 78%)\n"
          ],
          "name": "stdout"
        }
      ]
    }
  ]
}